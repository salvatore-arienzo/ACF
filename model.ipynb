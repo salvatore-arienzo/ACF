{
 "cells": [
  {
   "cell_type": "code",
   "execution_count": 1,
   "metadata": {},
   "outputs": [
    {
     "name": "stderr",
     "output_type": "stream",
     "text": [
      "Using TensorFlow backend.\n"
     ]
    }
   ],
   "source": [
    "import pandas as pd\n",
    "from sklearn import preprocessing\n",
    "from sklearn.model_selection import train_test_split\n",
    "from keras.models import Sequential\n",
    "from keras.layers import Dense\n",
    "import matplotlib.pyplot as plt\n",
    "import _pickle as pickle \n",
    "from pickle import dump, load\n",
    "from keras.layers import Dropout\n",
    "from keras import regularizers"
   ]
  },
  {
   "cell_type": "code",
   "execution_count": 2,
   "metadata": {},
   "outputs": [],
   "source": [
    "#Loading dataset"
   ]
  },
  {
   "cell_type": "code",
   "execution_count": 3,
   "metadata": {},
   "outputs": [],
   "source": [
    "df = pd.read_csv('dataset.csv')  #error_bad_lines=False"
   ]
  },
  {
   "cell_type": "code",
   "execution_count": 4,
   "metadata": {},
   "outputs": [
    {
     "data": {
      "text/html": [
       "<div>\n",
       "<style scoped>\n",
       "    .dataframe tbody tr th:only-of-type {\n",
       "        vertical-align: middle;\n",
       "    }\n",
       "\n",
       "    .dataframe tbody tr th {\n",
       "        vertical-align: top;\n",
       "    }\n",
       "\n",
       "    .dataframe thead th {\n",
       "        text-align: right;\n",
       "    }\n",
       "</style>\n",
       "<table border=\"1\" class=\"dataframe\">\n",
       "  <thead>\n",
       "    <tr style=\"text-align: right;\">\n",
       "      <th></th>\n",
       "      <th>idFrame</th>\n",
       "      <th>Xnose1</th>\n",
       "      <th>Ynose1</th>\n",
       "      <th>Xnose2</th>\n",
       "      <th>Ynose2</th>\n",
       "      <th>Xneck1</th>\n",
       "      <th>Yneck1</th>\n",
       "      <th>Xneck2</th>\n",
       "      <th>Yneck2</th>\n",
       "      <th>XRshoulder1</th>\n",
       "      <th>...</th>\n",
       "      <th>DistNoseRKnee2</th>\n",
       "      <th>DistLHipLWrist2</th>\n",
       "      <th>DistLHipRWrist2</th>\n",
       "      <th>DistRHipLWrist2</th>\n",
       "      <th>DistRHipRWrist2</th>\n",
       "      <th>DistLHipLKnee2</th>\n",
       "      <th>DistLHipRKnee2</th>\n",
       "      <th>DistRHipLKnee2</th>\n",
       "      <th>DistRHipRKnee2</th>\n",
       "      <th>Violence</th>\n",
       "    </tr>\n",
       "  </thead>\n",
       "  <tbody>\n",
       "    <tr>\n",
       "      <th>0</th>\n",
       "      <td>0</td>\n",
       "      <td>120</td>\n",
       "      <td>64</td>\n",
       "      <td>0</td>\n",
       "      <td>0</td>\n",
       "      <td>136</td>\n",
       "      <td>64</td>\n",
       "      <td>0</td>\n",
       "      <td>0</td>\n",
       "      <td>152</td>\n",
       "      <td>...</td>\n",
       "      <td>0.000000</td>\n",
       "      <td>0.000000</td>\n",
       "      <td>0.000000</td>\n",
       "      <td>0.000000</td>\n",
       "      <td>0.000000</td>\n",
       "      <td>0.000000</td>\n",
       "      <td>0.000000</td>\n",
       "      <td>0.000000</td>\n",
       "      <td>0.000000</td>\n",
       "      <td>0</td>\n",
       "    </tr>\n",
       "    <tr>\n",
       "      <th>1</th>\n",
       "      <td>22</td>\n",
       "      <td>0</td>\n",
       "      <td>0</td>\n",
       "      <td>0</td>\n",
       "      <td>0</td>\n",
       "      <td>80</td>\n",
       "      <td>96</td>\n",
       "      <td>128</td>\n",
       "      <td>88</td>\n",
       "      <td>88</td>\n",
       "      <td>...</td>\n",
       "      <td>0.000000</td>\n",
       "      <td>0.000000</td>\n",
       "      <td>0.000000</td>\n",
       "      <td>0.000000</td>\n",
       "      <td>0.000000</td>\n",
       "      <td>64.498062</td>\n",
       "      <td>64.498062</td>\n",
       "      <td>75.471849</td>\n",
       "      <td>75.471849</td>\n",
       "      <td>0</td>\n",
       "    </tr>\n",
       "    <tr>\n",
       "      <th>2</th>\n",
       "      <td>29</td>\n",
       "      <td>0</td>\n",
       "      <td>0</td>\n",
       "      <td>0</td>\n",
       "      <td>0</td>\n",
       "      <td>72</td>\n",
       "      <td>96</td>\n",
       "      <td>160</td>\n",
       "      <td>96</td>\n",
       "      <td>0</td>\n",
       "      <td>...</td>\n",
       "      <td>0.000000</td>\n",
       "      <td>0.000000</td>\n",
       "      <td>0.000000</td>\n",
       "      <td>0.000000</td>\n",
       "      <td>0.000000</td>\n",
       "      <td>89.442719</td>\n",
       "      <td>89.442719</td>\n",
       "      <td>89.442719</td>\n",
       "      <td>89.442719</td>\n",
       "      <td>0</td>\n",
       "    </tr>\n",
       "    <tr>\n",
       "      <th>3</th>\n",
       "      <td>82</td>\n",
       "      <td>0</td>\n",
       "      <td>0</td>\n",
       "      <td>200</td>\n",
       "      <td>72</td>\n",
       "      <td>0</td>\n",
       "      <td>0</td>\n",
       "      <td>216</td>\n",
       "      <td>80</td>\n",
       "      <td>0</td>\n",
       "      <td>...</td>\n",
       "      <td>0.000000</td>\n",
       "      <td>0.000000</td>\n",
       "      <td>0.000000</td>\n",
       "      <td>0.000000</td>\n",
       "      <td>0.000000</td>\n",
       "      <td>0.000000</td>\n",
       "      <td>0.000000</td>\n",
       "      <td>0.000000</td>\n",
       "      <td>0.000000</td>\n",
       "      <td>0</td>\n",
       "    </tr>\n",
       "    <tr>\n",
       "      <th>4</th>\n",
       "      <td>84</td>\n",
       "      <td>0</td>\n",
       "      <td>0</td>\n",
       "      <td>176</td>\n",
       "      <td>40</td>\n",
       "      <td>208</td>\n",
       "      <td>88</td>\n",
       "      <td>200</td>\n",
       "      <td>56</td>\n",
       "      <td>0</td>\n",
       "      <td>...</td>\n",
       "      <td>106.733312</td>\n",
       "      <td>0.000000</td>\n",
       "      <td>0.000000</td>\n",
       "      <td>0.000000</td>\n",
       "      <td>0.000000</td>\n",
       "      <td>0.000000</td>\n",
       "      <td>0.000000</td>\n",
       "      <td>0.000000</td>\n",
       "      <td>0.000000</td>\n",
       "      <td>0</td>\n",
       "    </tr>\n",
       "    <tr>\n",
       "      <th>...</th>\n",
       "      <td>...</td>\n",
       "      <td>...</td>\n",
       "      <td>...</td>\n",
       "      <td>...</td>\n",
       "      <td>...</td>\n",
       "      <td>...</td>\n",
       "      <td>...</td>\n",
       "      <td>...</td>\n",
       "      <td>...</td>\n",
       "      <td>...</td>\n",
       "      <td>...</td>\n",
       "      <td>...</td>\n",
       "      <td>...</td>\n",
       "      <td>...</td>\n",
       "      <td>...</td>\n",
       "      <td>...</td>\n",
       "      <td>...</td>\n",
       "      <td>...</td>\n",
       "      <td>...</td>\n",
       "      <td>...</td>\n",
       "      <td>...</td>\n",
       "    </tr>\n",
       "    <tr>\n",
       "      <th>2403</th>\n",
       "      <td>12482</td>\n",
       "      <td>40</td>\n",
       "      <td>64</td>\n",
       "      <td>152</td>\n",
       "      <td>48</td>\n",
       "      <td>40</td>\n",
       "      <td>80</td>\n",
       "      <td>160</td>\n",
       "      <td>72</td>\n",
       "      <td>16</td>\n",
       "      <td>...</td>\n",
       "      <td>0.000000</td>\n",
       "      <td>81.584312</td>\n",
       "      <td>145.986301</td>\n",
       "      <td>58.240879</td>\n",
       "      <td>122.376468</td>\n",
       "      <td>0.000000</td>\n",
       "      <td>0.000000</td>\n",
       "      <td>0.000000</td>\n",
       "      <td>0.000000</td>\n",
       "      <td>1</td>\n",
       "    </tr>\n",
       "    <tr>\n",
       "      <th>2404</th>\n",
       "      <td>12483</td>\n",
       "      <td>152</td>\n",
       "      <td>48</td>\n",
       "      <td>40</td>\n",
       "      <td>64</td>\n",
       "      <td>160</td>\n",
       "      <td>72</td>\n",
       "      <td>40</td>\n",
       "      <td>80</td>\n",
       "      <td>144</td>\n",
       "      <td>...</td>\n",
       "      <td>0.000000</td>\n",
       "      <td>112.000000</td>\n",
       "      <td>0.000000</td>\n",
       "      <td>136.000000</td>\n",
       "      <td>0.000000</td>\n",
       "      <td>0.000000</td>\n",
       "      <td>0.000000</td>\n",
       "      <td>0.000000</td>\n",
       "      <td>0.000000</td>\n",
       "      <td>1</td>\n",
       "    </tr>\n",
       "    <tr>\n",
       "      <th>2405</th>\n",
       "      <td>12484</td>\n",
       "      <td>152</td>\n",
       "      <td>48</td>\n",
       "      <td>40</td>\n",
       "      <td>64</td>\n",
       "      <td>160</td>\n",
       "      <td>72</td>\n",
       "      <td>40</td>\n",
       "      <td>80</td>\n",
       "      <td>144</td>\n",
       "      <td>...</td>\n",
       "      <td>0.000000</td>\n",
       "      <td>105.223572</td>\n",
       "      <td>0.000000</td>\n",
       "      <td>136.235091</td>\n",
       "      <td>0.000000</td>\n",
       "      <td>0.000000</td>\n",
       "      <td>0.000000</td>\n",
       "      <td>0.000000</td>\n",
       "      <td>0.000000</td>\n",
       "      <td>1</td>\n",
       "    </tr>\n",
       "    <tr>\n",
       "      <th>2406</th>\n",
       "      <td>12485</td>\n",
       "      <td>152</td>\n",
       "      <td>48</td>\n",
       "      <td>40</td>\n",
       "      <td>64</td>\n",
       "      <td>160</td>\n",
       "      <td>72</td>\n",
       "      <td>40</td>\n",
       "      <td>80</td>\n",
       "      <td>144</td>\n",
       "      <td>...</td>\n",
       "      <td>0.000000</td>\n",
       "      <td>112.285351</td>\n",
       "      <td>0.000000</td>\n",
       "      <td>136.235091</td>\n",
       "      <td>0.000000</td>\n",
       "      <td>0.000000</td>\n",
       "      <td>0.000000</td>\n",
       "      <td>0.000000</td>\n",
       "      <td>0.000000</td>\n",
       "      <td>1</td>\n",
       "    </tr>\n",
       "    <tr>\n",
       "      <th>2407</th>\n",
       "      <td>12486</td>\n",
       "      <td>152</td>\n",
       "      <td>48</td>\n",
       "      <td>40</td>\n",
       "      <td>64</td>\n",
       "      <td>160</td>\n",
       "      <td>72</td>\n",
       "      <td>40</td>\n",
       "      <td>80</td>\n",
       "      <td>144</td>\n",
       "      <td>...</td>\n",
       "      <td>0.000000</td>\n",
       "      <td>112.285351</td>\n",
       "      <td>0.000000</td>\n",
       "      <td>136.235091</td>\n",
       "      <td>0.000000</td>\n",
       "      <td>0.000000</td>\n",
       "      <td>0.000000</td>\n",
       "      <td>0.000000</td>\n",
       "      <td>0.000000</td>\n",
       "      <td>1</td>\n",
       "    </tr>\n",
       "  </tbody>\n",
       "</table>\n",
       "<p>2408 rows × 100 columns</p>\n",
       "</div>"
      ],
      "text/plain": [
       "      idFrame  Xnose1  Ynose1  Xnose2  Ynose2  Xneck1  Yneck1  Xneck2  Yneck2  \\\n",
       "0           0     120      64       0       0     136      64       0       0   \n",
       "1          22       0       0       0       0      80      96     128      88   \n",
       "2          29       0       0       0       0      72      96     160      96   \n",
       "3          82       0       0     200      72       0       0     216      80   \n",
       "4          84       0       0     176      40     208      88     200      56   \n",
       "...       ...     ...     ...     ...     ...     ...     ...     ...     ...   \n",
       "2403    12482      40      64     152      48      40      80     160      72   \n",
       "2404    12483     152      48      40      64     160      72      40      80   \n",
       "2405    12484     152      48      40      64     160      72      40      80   \n",
       "2406    12485     152      48      40      64     160      72      40      80   \n",
       "2407    12486     152      48      40      64     160      72      40      80   \n",
       "\n",
       "      XRshoulder1  ...  DistNoseRKnee2  DistLHipLWrist2  DistLHipRWrist2  \\\n",
       "0             152  ...        0.000000         0.000000         0.000000   \n",
       "1              88  ...        0.000000         0.000000         0.000000   \n",
       "2               0  ...        0.000000         0.000000         0.000000   \n",
       "3               0  ...        0.000000         0.000000         0.000000   \n",
       "4               0  ...      106.733312         0.000000         0.000000   \n",
       "...           ...  ...             ...              ...              ...   \n",
       "2403           16  ...        0.000000        81.584312       145.986301   \n",
       "2404          144  ...        0.000000       112.000000         0.000000   \n",
       "2405          144  ...        0.000000       105.223572         0.000000   \n",
       "2406          144  ...        0.000000       112.285351         0.000000   \n",
       "2407          144  ...        0.000000       112.285351         0.000000   \n",
       "\n",
       "      DistRHipLWrist2  DistRHipRWrist2  DistLHipLKnee2  DistLHipRKnee2  \\\n",
       "0            0.000000         0.000000        0.000000        0.000000   \n",
       "1            0.000000         0.000000       64.498062       64.498062   \n",
       "2            0.000000         0.000000       89.442719       89.442719   \n",
       "3            0.000000         0.000000        0.000000        0.000000   \n",
       "4            0.000000         0.000000        0.000000        0.000000   \n",
       "...               ...              ...             ...             ...   \n",
       "2403        58.240879       122.376468        0.000000        0.000000   \n",
       "2404       136.000000         0.000000        0.000000        0.000000   \n",
       "2405       136.235091         0.000000        0.000000        0.000000   \n",
       "2406       136.235091         0.000000        0.000000        0.000000   \n",
       "2407       136.235091         0.000000        0.000000        0.000000   \n",
       "\n",
       "      DistRHipLKnee2  DistRHipRKnee2  Violence  \n",
       "0           0.000000        0.000000         0  \n",
       "1          75.471849       75.471849         0  \n",
       "2          89.442719       89.442719         0  \n",
       "3           0.000000        0.000000         0  \n",
       "4           0.000000        0.000000         0  \n",
       "...              ...             ...       ...  \n",
       "2403        0.000000        0.000000         1  \n",
       "2404        0.000000        0.000000         1  \n",
       "2405        0.000000        0.000000         1  \n",
       "2406        0.000000        0.000000         1  \n",
       "2407        0.000000        0.000000         1  \n",
       "\n",
       "[2408 rows x 100 columns]"
      ]
     },
     "execution_count": 4,
     "metadata": {},
     "output_type": "execute_result"
    }
   ],
   "source": [
    "df"
   ]
  },
  {
   "cell_type": "code",
   "execution_count": 5,
   "metadata": {},
   "outputs": [],
   "source": [
    "dataset = df.values"
   ]
  },
  {
   "cell_type": "code",
   "execution_count": 6,
   "metadata": {},
   "outputs": [
    {
     "data": {
      "text/plain": [
       "array([[0.00000000e+00, 1.20000000e+02, 6.40000000e+01, ...,\n",
       "        0.00000000e+00, 0.00000000e+00, 0.00000000e+00],\n",
       "       [2.20000000e+01, 0.00000000e+00, 0.00000000e+00, ...,\n",
       "        7.54718491e+01, 7.54718491e+01, 0.00000000e+00],\n",
       "       [2.90000000e+01, 0.00000000e+00, 0.00000000e+00, ...,\n",
       "        8.94427191e+01, 8.94427191e+01, 0.00000000e+00],\n",
       "       ...,\n",
       "       [1.24840000e+04, 1.52000000e+02, 4.80000000e+01, ...,\n",
       "        0.00000000e+00, 0.00000000e+00, 1.00000000e+00],\n",
       "       [1.24850000e+04, 1.52000000e+02, 4.80000000e+01, ...,\n",
       "        0.00000000e+00, 0.00000000e+00, 1.00000000e+00],\n",
       "       [1.24860000e+04, 1.52000000e+02, 4.80000000e+01, ...,\n",
       "        0.00000000e+00, 0.00000000e+00, 1.00000000e+00]])"
      ]
     },
     "execution_count": 6,
     "metadata": {},
     "output_type": "execute_result"
    }
   ],
   "source": [
    "dataset"
   ]
  },
  {
   "cell_type": "code",
   "execution_count": 7,
   "metadata": {},
   "outputs": [],
   "source": [
    "X = dataset[:,0:99] #Input features, the first 99 columns of the dataset"
   ]
  },
  {
   "cell_type": "code",
   "execution_count": 8,
   "metadata": {},
   "outputs": [
    {
     "data": {
      "text/plain": [
       "array([[    0.        ,   120.        ,    64.        , ...,\n",
       "            0.        ,     0.        ,     0.        ],\n",
       "       [   22.        ,     0.        ,     0.        , ...,\n",
       "           64.49806199,    75.47184906,    75.47184906],\n",
       "       [   29.        ,     0.        ,     0.        , ...,\n",
       "           89.4427191 ,    89.4427191 ,    89.4427191 ],\n",
       "       ...,\n",
       "       [12484.        ,   152.        ,    48.        , ...,\n",
       "            0.        ,     0.        ,     0.        ],\n",
       "       [12485.        ,   152.        ,    48.        , ...,\n",
       "            0.        ,     0.        ,     0.        ],\n",
       "       [12486.        ,   152.        ,    48.        , ...,\n",
       "            0.        ,     0.        ,     0.        ]])"
      ]
     },
     "execution_count": 8,
     "metadata": {},
     "output_type": "execute_result"
    }
   ],
   "source": [
    "X"
   ]
  },
  {
   "cell_type": "code",
   "execution_count": 9,
   "metadata": {},
   "outputs": [],
   "source": [
    "Y = dataset[:,99] #The feature i aim to predict"
   ]
  },
  {
   "cell_type": "code",
   "execution_count": 10,
   "metadata": {},
   "outputs": [
    {
     "data": {
      "text/plain": [
       "array([0., 0., 0., ..., 1., 1., 1.])"
      ]
     },
     "execution_count": 10,
     "metadata": {},
     "output_type": "execute_result"
    }
   ],
   "source": [
    "Y"
   ]
  },
  {
   "cell_type": "code",
   "execution_count": 11,
   "metadata": {},
   "outputs": [],
   "source": [
    "min_max_scaler = preprocessing.MinMaxScaler()\n",
    "X_scale = min_max_scaler.fit_transform(X) \n",
    "#scaler for make the range between 0 e 1"
   ]
  },
  {
   "cell_type": "code",
   "execution_count": 12,
   "metadata": {},
   "outputs": [
    {
     "data": {
      "text/plain": [
       "array([[0.        , 0.55555556, 0.34782609, ..., 0.        , 0.        ,\n",
       "        0.        ],\n",
       "       [0.00176197, 0.        , 0.        , ..., 0.37921671, 0.4026325 ,\n",
       "        0.41611507],\n",
       "       [0.0023226 , 0.        , 0.        , ..., 0.52587895, 0.47716528,\n",
       "        0.49314365],\n",
       "       ...,\n",
       "       [0.99983982, 0.7037037 , 0.26086957, ..., 0.        , 0.        ,\n",
       "        0.        ],\n",
       "       [0.99991991, 0.7037037 , 0.26086957, ..., 0.        , 0.        ,\n",
       "        0.        ],\n",
       "       [1.        , 0.7037037 , 0.26086957, ..., 0.        , 0.        ,\n",
       "        0.        ]])"
      ]
     },
     "execution_count": 12,
     "metadata": {},
     "output_type": "execute_result"
    }
   ],
   "source": [
    "X_scale"
   ]
  },
  {
   "cell_type": "markdown",
   "metadata": {},
   "source": [
    "Splitting the dataset, val_and_test size will be 30% of the overall dataset, then we split again in two parts\n",
    "test and val."
   ]
  },
  {
   "cell_type": "code",
   "execution_count": 13,
   "metadata": {},
   "outputs": [],
   "source": [
    "X_train, X_val_and_test, Y_train, Y_val_and_test = train_test_split(X_scale, Y, test_size=0.3)"
   ]
  },
  {
   "cell_type": "code",
   "execution_count": 14,
   "metadata": {},
   "outputs": [],
   "source": [
    "X_val, X_test, Y_val, Y_test = train_test_split(X_val_and_test, Y_val_and_test, test_size=0.5)"
   ]
  },
  {
   "cell_type": "code",
   "execution_count": 15,
   "metadata": {},
   "outputs": [
    {
     "name": "stdout",
     "output_type": "stream",
     "text": [
      "(1685, 99) (361, 99) (362, 99) (1685,) (361,) (362,)\n"
     ]
    }
   ],
   "source": [
    "print(X_train.shape, X_val.shape, X_test.shape, Y_train.shape, Y_val.shape, Y_test.shape)"
   ]
  },
  {
   "cell_type": "markdown",
   "metadata": {},
   "source": [
    "# Building the neural network"
   ]
  },
  {
   "cell_type": "code",
   "execution_count": 16,
   "metadata": {},
   "outputs": [],
   "source": [
    "model_3 = Sequential([  \n",
    "    Dense(64, activation='relu', \n",
    "    kernel_regularizer=regularizers.l2(0.01),\n",
    "    input_shape=(99,)),\n",
    "    Dropout(0.3),\n",
    "    Dense(32, activation='relu',\n",
    "    kernel_regularizer=regularizers.l2(0.01)), \n",
    "    Dropout(0.3),\n",
    "    Dense(12,\n",
    "    activation='relu',\n",
    "    kernel_regularizer=regularizers.l2(0.01)),    \n",
    "    Dropout(0.3),    \n",
    "    Dense(6, activation='relu', \n",
    "    kernel_regularizer=regularizers.l2(0.01)),    \n",
    "    Dropout(0.3),    \n",
    "    Dense(1, activation='sigmoid', \n",
    "    kernel_regularizer=regularizers.l2(0.01)),])"
   ]
  },
  {
   "cell_type": "code",
   "execution_count": 17,
   "metadata": {},
   "outputs": [],
   "source": [
    "model_3.compile(optimizer='adam',      \n",
    "                loss='binary_crossentropy',    \n",
    "                metrics=['accuracy'])"
   ]
  },
  {
   "cell_type": "code",
   "execution_count": 18,
   "metadata": {},
   "outputs": [
    {
     "name": "stdout",
     "output_type": "stream",
     "text": [
      "Train on 1685 samples, validate on 361 samples\n",
      "Epoch 1/8\n",
      "1685/1685 [==============================] - 1s 544us/step - loss: 1.8644 - accuracy: 0.5828 - val_loss: 1.5672 - val_accuracy: 0.6676\n",
      "Epoch 2/8\n",
      "1685/1685 [==============================] - 0s 117us/step - loss: 1.3715 - accuracy: 0.6119 - val_loss: 1.1594 - val_accuracy: 0.6676\n",
      "Epoch 3/8\n",
      "1685/1685 [==============================] - 0s 102us/step - loss: 1.0594 - accuracy: 0.6445 - val_loss: 0.8975 - val_accuracy: 0.7756\n",
      "Epoch 4/8\n",
      "1685/1685 [==============================] - 0s 150us/step - loss: 0.8548 - accuracy: 0.7341 - val_loss: 0.7119 - val_accuracy: 0.8975\n",
      "Epoch 5/8\n",
      "1685/1685 [==============================] - 0s 184us/step - loss: 0.6936 - accuracy: 0.8202 - val_loss: 0.5413 - val_accuracy: 0.9169\n",
      "Epoch 6/8\n",
      "1685/1685 [==============================] - 0s 184us/step - loss: 0.5678 - accuracy: 0.8926 - val_loss: 0.4264 - val_accuracy: 0.9557\n",
      "Epoch 7/8\n",
      "1685/1685 [==============================] - 0s 187us/step - loss: 0.5004 - accuracy: 0.9163 - val_loss: 0.3838 - val_accuracy: 0.9695\n",
      "Epoch 8/8\n",
      "1685/1685 [==============================] - 0s 185us/step - loss: 0.4312 - accuracy: 0.9454 - val_loss: 0.3476 - val_accuracy: 0.9668\n"
     ]
    }
   ],
   "source": [
    "hist_3 = model_3.fit(X_train, Y_train,batch_size=32, epochs=8, validation_data=(X_val, Y_val))"
   ]
  },
  {
   "cell_type": "code",
   "execution_count": 19,
   "metadata": {},
   "outputs": [
    {
     "data": {
      "image/png": "[encoded data removed]",
      "text/plain": [
       "<Figure size 432x288 with 1 Axes>"
      ]
     },
     "metadata": {
      "needs_background": "light"
     },
     "output_type": "display_data"
    }
   ],
   "source": [
    "plt.plot(hist_3.history['loss'])\n",
    "plt.plot(hist_3.history['val_loss'])\n",
    "plt.title('Model loss')\n",
    "plt.ylabel('Loss')\n",
    "plt.xlabel('Epoch')\n",
    "plt.legend(['Train', 'Val'], loc='upper right')\n",
    "plt.show()"
   ]
  },
  {
   "cell_type": "code",
   "execution_count": 20,
   "metadata": {},
   "outputs": [
    {
     "data": {
      "image/png": "[encoded data removed]",
      "text/plain": [
       "<Figure size 432x288 with 1 Axes>"
      ]
     },
     "metadata": {
      "needs_background": "light"
     },
     "output_type": "display_data"
    }
   ],
   "source": [
    "plt.plot(hist_3.history['accuracy'])\n",
    "plt.plot(hist_3.history['val_accuracy'])\n",
    "plt.title('Model accuracy')\n",
    "plt.ylabel('Accuracy')\n",
    "plt.xlabel('Epoch')\n",
    "plt.legend(['Train', 'Val'], loc='lower right')\n",
    "plt.show()"
   ]
  },
  {
   "cell_type": "markdown",
   "metadata": {},
   "source": [
    "Save the model"
   ]
  },
  {
   "cell_type": "code",
   "execution_count": 21,
   "metadata": {},
   "outputs": [],
   "source": [
    "model_3.save('models/model_NN.h5')"
   ]
  },
  {
   "cell_type": "code",
   "execution_count": 22,
   "metadata": {},
   "outputs": [
    {
     "name": "stdout",
     "output_type": "stream",
     "text": [
      "1685/1685 [==============================] - 0s 41us/step\n"
     ]
    }
   ],
   "source": [
    "score = model_3.evaluate(X_train, Y_train, verbose=1)"
   ]
  },
  {
   "cell_type": "code",
   "execution_count": 23,
   "metadata": {},
   "outputs": [
    {
     "data": {
      "text/plain": [
       "[0.3164162894207929, 0.9821958541870117]"
      ]
     },
     "execution_count": 23,
     "metadata": {},
     "output_type": "execute_result"
    }
   ],
   "source": [
    "score"
   ]
  },
  {
   "cell_type": "code",
   "execution_count": null,
   "metadata": {},
   "outputs": [],
   "source": []
  }
 ],
 "metadata": {
  "kernelspec": {
   "display_name": "Python 3",
   "language": "python",
   "name": "python3"
  },
  "language_info": {
   "codemirror_mode": {
    "name": "ipython",
    "version": 3
   },
   "file_extension": ".py",
   "mimetype": "text/x-python",
   "name": "python",
   "nbconvert_exporter": "python",
   "pygments_lexer": "ipython3",
   "version": "3.7.7"
  }
 },
 "nbformat": 4,
 "nbformat_minor": 4
}
