{
 "cells": [
  {
   "cell_type": "code",
   "execution_count": 20,
   "metadata": {},
   "outputs": [],
   "source": [
    "import pandas as pd\n",
    "from sklearn import preprocessing\n",
    "from sklearn.model_selection import train_test_split\n",
    "from keras.models import Sequential\n",
    "from keras.layers import Dense\n",
    "import matplotlib.pyplot as plt\n",
    "import _pickle as pickle \n",
    "from pickle import dump, load\n",
    "from keras.layers import Dropout\n",
    "from keras import regularizers"
   ]
  },
  {
   "cell_type": "code",
   "execution_count": 2,
   "metadata": {},
   "outputs": [],
   "source": [
    "#Loading dataset"
   ]
  },
  {
   "cell_type": "code",
   "execution_count": 3,
   "metadata": {},
   "outputs": [],
   "source": [
    "df = pd.read_csv('dataset.csv')  #error_bad_lines=False"
   ]
  },
  {
   "cell_type": "code",
   "execution_count": 4,
   "metadata": {},
   "outputs": [
    {
     "data": {
      "text/html": [
       "<div>\n",
       "<style scoped>\n",
       "    .dataframe tbody tr th:only-of-type {\n",
       "        vertical-align: middle;\n",
       "    }\n",
       "\n",
       "    .dataframe tbody tr th {\n",
       "        vertical-align: top;\n",
       "    }\n",
       "\n",
       "    .dataframe thead th {\n",
       "        text-align: right;\n",
       "    }\n",
       "</style>\n",
       "<table border=\"1\" class=\"dataframe\">\n",
       "  <thead>\n",
       "    <tr style=\"text-align: right;\">\n",
       "      <th></th>\n",
       "      <th>idFrame</th>\n",
       "      <th>Xnose1</th>\n",
       "      <th>Ynose1</th>\n",
       "      <th>Xnose2</th>\n",
       "      <th>Ynose2</th>\n",
       "      <th>Xneck1</th>\n",
       "      <th>Yneck1</th>\n",
       "      <th>Xneck2</th>\n",
       "      <th>Yneck2</th>\n",
       "      <th>XRshoulder1</th>\n",
       "      <th>...</th>\n",
       "      <th>DistNoseRKnee2</th>\n",
       "      <th>DistLHipLWrist2</th>\n",
       "      <th>DistLHipRWrist2</th>\n",
       "      <th>DistRHipLWrist2</th>\n",
       "      <th>DistRHipRWrist2</th>\n",
       "      <th>DistLHipLKnee2</th>\n",
       "      <th>DistLHipRKnee2</th>\n",
       "      <th>DistRHipLKnee2</th>\n",
       "      <th>DistRHipRKnee2</th>\n",
       "      <th>Violence</th>\n",
       "    </tr>\n",
       "  </thead>\n",
       "  <tbody>\n",
       "    <tr>\n",
       "      <th>0</th>\n",
       "      <td>0</td>\n",
       "      <td>120</td>\n",
       "      <td>64</td>\n",
       "      <td>0</td>\n",
       "      <td>0</td>\n",
       "      <td>136</td>\n",
       "      <td>64</td>\n",
       "      <td>0</td>\n",
       "      <td>0</td>\n",
       "      <td>152</td>\n",
       "      <td>...</td>\n",
       "      <td>0.000000</td>\n",
       "      <td>0.000000</td>\n",
       "      <td>0.000000</td>\n",
       "      <td>0.000000</td>\n",
       "      <td>0.000000</td>\n",
       "      <td>0.000000</td>\n",
       "      <td>0.000000</td>\n",
       "      <td>0.000000</td>\n",
       "      <td>0.000000</td>\n",
       "      <td>0</td>\n",
       "    </tr>\n",
       "    <tr>\n",
       "      <th>1</th>\n",
       "      <td>22</td>\n",
       "      <td>0</td>\n",
       "      <td>0</td>\n",
       "      <td>0</td>\n",
       "      <td>0</td>\n",
       "      <td>80</td>\n",
       "      <td>96</td>\n",
       "      <td>128</td>\n",
       "      <td>88</td>\n",
       "      <td>88</td>\n",
       "      <td>...</td>\n",
       "      <td>0.000000</td>\n",
       "      <td>0.000000</td>\n",
       "      <td>0.000000</td>\n",
       "      <td>0.000000</td>\n",
       "      <td>0.000000</td>\n",
       "      <td>64.498062</td>\n",
       "      <td>64.498062</td>\n",
       "      <td>75.471849</td>\n",
       "      <td>75.471849</td>\n",
       "      <td>0</td>\n",
       "    </tr>\n",
       "    <tr>\n",
       "      <th>2</th>\n",
       "      <td>29</td>\n",
       "      <td>0</td>\n",
       "      <td>0</td>\n",
       "      <td>0</td>\n",
       "      <td>0</td>\n",
       "      <td>72</td>\n",
       "      <td>96</td>\n",
       "      <td>160</td>\n",
       "      <td>96</td>\n",
       "      <td>0</td>\n",
       "      <td>...</td>\n",
       "      <td>0.000000</td>\n",
       "      <td>0.000000</td>\n",
       "      <td>0.000000</td>\n",
       "      <td>0.000000</td>\n",
       "      <td>0.000000</td>\n",
       "      <td>89.442719</td>\n",
       "      <td>89.442719</td>\n",
       "      <td>89.442719</td>\n",
       "      <td>89.442719</td>\n",
       "      <td>0</td>\n",
       "    </tr>\n",
       "    <tr>\n",
       "      <th>3</th>\n",
       "      <td>82</td>\n",
       "      <td>0</td>\n",
       "      <td>0</td>\n",
       "      <td>200</td>\n",
       "      <td>72</td>\n",
       "      <td>0</td>\n",
       "      <td>0</td>\n",
       "      <td>216</td>\n",
       "      <td>80</td>\n",
       "      <td>0</td>\n",
       "      <td>...</td>\n",
       "      <td>0.000000</td>\n",
       "      <td>0.000000</td>\n",
       "      <td>0.000000</td>\n",
       "      <td>0.000000</td>\n",
       "      <td>0.000000</td>\n",
       "      <td>0.000000</td>\n",
       "      <td>0.000000</td>\n",
       "      <td>0.000000</td>\n",
       "      <td>0.000000</td>\n",
       "      <td>0</td>\n",
       "    </tr>\n",
       "    <tr>\n",
       "      <th>4</th>\n",
       "      <td>84</td>\n",
       "      <td>0</td>\n",
       "      <td>0</td>\n",
       "      <td>176</td>\n",
       "      <td>40</td>\n",
       "      <td>208</td>\n",
       "      <td>88</td>\n",
       "      <td>200</td>\n",
       "      <td>56</td>\n",
       "      <td>0</td>\n",
       "      <td>...</td>\n",
       "      <td>106.733312</td>\n",
       "      <td>0.000000</td>\n",
       "      <td>0.000000</td>\n",
       "      <td>0.000000</td>\n",
       "      <td>0.000000</td>\n",
       "      <td>0.000000</td>\n",
       "      <td>0.000000</td>\n",
       "      <td>0.000000</td>\n",
       "      <td>0.000000</td>\n",
       "      <td>0</td>\n",
       "    </tr>\n",
       "    <tr>\n",
       "      <th>...</th>\n",
       "      <td>...</td>\n",
       "      <td>...</td>\n",
       "      <td>...</td>\n",
       "      <td>...</td>\n",
       "      <td>...</td>\n",
       "      <td>...</td>\n",
       "      <td>...</td>\n",
       "      <td>...</td>\n",
       "      <td>...</td>\n",
       "      <td>...</td>\n",
       "      <td>...</td>\n",
       "      <td>...</td>\n",
       "      <td>...</td>\n",
       "      <td>...</td>\n",
       "      <td>...</td>\n",
       "      <td>...</td>\n",
       "      <td>...</td>\n",
       "      <td>...</td>\n",
       "      <td>...</td>\n",
       "      <td>...</td>\n",
       "      <td>...</td>\n",
       "    </tr>\n",
       "    <tr>\n",
       "      <th>2403</th>\n",
       "      <td>12482</td>\n",
       "      <td>40</td>\n",
       "      <td>64</td>\n",
       "      <td>152</td>\n",
       "      <td>48</td>\n",
       "      <td>40</td>\n",
       "      <td>80</td>\n",
       "      <td>160</td>\n",
       "      <td>72</td>\n",
       "      <td>16</td>\n",
       "      <td>...</td>\n",
       "      <td>0.000000</td>\n",
       "      <td>81.584312</td>\n",
       "      <td>145.986301</td>\n",
       "      <td>58.240879</td>\n",
       "      <td>122.376468</td>\n",
       "      <td>0.000000</td>\n",
       "      <td>0.000000</td>\n",
       "      <td>0.000000</td>\n",
       "      <td>0.000000</td>\n",
       "      <td>1</td>\n",
       "    </tr>\n",
       "    <tr>\n",
       "      <th>2404</th>\n",
       "      <td>12483</td>\n",
       "      <td>152</td>\n",
       "      <td>48</td>\n",
       "      <td>40</td>\n",
       "      <td>64</td>\n",
       "      <td>160</td>\n",
       "      <td>72</td>\n",
       "      <td>40</td>\n",
       "      <td>80</td>\n",
       "      <td>144</td>\n",
       "      <td>...</td>\n",
       "      <td>0.000000</td>\n",
       "      <td>112.000000</td>\n",
       "      <td>0.000000</td>\n",
       "      <td>136.000000</td>\n",
       "      <td>0.000000</td>\n",
       "      <td>0.000000</td>\n",
       "      <td>0.000000</td>\n",
       "      <td>0.000000</td>\n",
       "      <td>0.000000</td>\n",
       "      <td>1</td>\n",
       "    </tr>\n",
       "    <tr>\n",
       "      <th>2405</th>\n",
       "      <td>12484</td>\n",
       "      <td>152</td>\n",
       "      <td>48</td>\n",
       "      <td>40</td>\n",
       "      <td>64</td>\n",
       "      <td>160</td>\n",
       "      <td>72</td>\n",
       "      <td>40</td>\n",
       "      <td>80</td>\n",
       "      <td>144</td>\n",
       "      <td>...</td>\n",
       "      <td>0.000000</td>\n",
       "      <td>105.223572</td>\n",
       "      <td>0.000000</td>\n",
       "      <td>136.235091</td>\n",
       "      <td>0.000000</td>\n",
       "      <td>0.000000</td>\n",
       "      <td>0.000000</td>\n",
       "      <td>0.000000</td>\n",
       "      <td>0.000000</td>\n",
       "      <td>1</td>\n",
       "    </tr>\n",
       "    <tr>\n",
       "      <th>2406</th>\n",
       "      <td>12485</td>\n",
       "      <td>152</td>\n",
       "      <td>48</td>\n",
       "      <td>40</td>\n",
       "      <td>64</td>\n",
       "      <td>160</td>\n",
       "      <td>72</td>\n",
       "      <td>40</td>\n",
       "      <td>80</td>\n",
       "      <td>144</td>\n",
       "      <td>...</td>\n",
       "      <td>0.000000</td>\n",
       "      <td>112.285351</td>\n",
       "      <td>0.000000</td>\n",
       "      <td>136.235091</td>\n",
       "      <td>0.000000</td>\n",
       "      <td>0.000000</td>\n",
       "      <td>0.000000</td>\n",
       "      <td>0.000000</td>\n",
       "      <td>0.000000</td>\n",
       "      <td>1</td>\n",
       "    </tr>\n",
       "    <tr>\n",
       "      <th>2407</th>\n",
       "      <td>12486</td>\n",
       "      <td>152</td>\n",
       "      <td>48</td>\n",
       "      <td>40</td>\n",
       "      <td>64</td>\n",
       "      <td>160</td>\n",
       "      <td>72</td>\n",
       "      <td>40</td>\n",
       "      <td>80</td>\n",
       "      <td>144</td>\n",
       "      <td>...</td>\n",
       "      <td>0.000000</td>\n",
       "      <td>112.285351</td>\n",
       "      <td>0.000000</td>\n",
       "      <td>136.235091</td>\n",
       "      <td>0.000000</td>\n",
       "      <td>0.000000</td>\n",
       "      <td>0.000000</td>\n",
       "      <td>0.000000</td>\n",
       "      <td>0.000000</td>\n",
       "      <td>1</td>\n",
       "    </tr>\n",
       "  </tbody>\n",
       "</table>\n",
       "<p>2408 rows × 100 columns</p>\n",
       "</div>"
      ],
      "text/plain": [
       "      idFrame  Xnose1  Ynose1  Xnose2  Ynose2  Xneck1  Yneck1  Xneck2  Yneck2  \\\n",
       "0           0     120      64       0       0     136      64       0       0   \n",
       "1          22       0       0       0       0      80      96     128      88   \n",
       "2          29       0       0       0       0      72      96     160      96   \n",
       "3          82       0       0     200      72       0       0     216      80   \n",
       "4          84       0       0     176      40     208      88     200      56   \n",
       "...       ...     ...     ...     ...     ...     ...     ...     ...     ...   \n",
       "2403    12482      40      64     152      48      40      80     160      72   \n",
       "2404    12483     152      48      40      64     160      72      40      80   \n",
       "2405    12484     152      48      40      64     160      72      40      80   \n",
       "2406    12485     152      48      40      64     160      72      40      80   \n",
       "2407    12486     152      48      40      64     160      72      40      80   \n",
       "\n",
       "      XRshoulder1  ...  DistNoseRKnee2  DistLHipLWrist2  DistLHipRWrist2  \\\n",
       "0             152  ...        0.000000         0.000000         0.000000   \n",
       "1              88  ...        0.000000         0.000000         0.000000   \n",
       "2               0  ...        0.000000         0.000000         0.000000   \n",
       "3               0  ...        0.000000         0.000000         0.000000   \n",
       "4               0  ...      106.733312         0.000000         0.000000   \n",
       "...           ...  ...             ...              ...              ...   \n",
       "2403           16  ...        0.000000        81.584312       145.986301   \n",
       "2404          144  ...        0.000000       112.000000         0.000000   \n",
       "2405          144  ...        0.000000       105.223572         0.000000   \n",
       "2406          144  ...        0.000000       112.285351         0.000000   \n",
       "2407          144  ...        0.000000       112.285351         0.000000   \n",
       "\n",
       "      DistRHipLWrist2  DistRHipRWrist2  DistLHipLKnee2  DistLHipRKnee2  \\\n",
       "0            0.000000         0.000000        0.000000        0.000000   \n",
       "1            0.000000         0.000000       64.498062       64.498062   \n",
       "2            0.000000         0.000000       89.442719       89.442719   \n",
       "3            0.000000         0.000000        0.000000        0.000000   \n",
       "4            0.000000         0.000000        0.000000        0.000000   \n",
       "...               ...              ...             ...             ...   \n",
       "2403        58.240879       122.376468        0.000000        0.000000   \n",
       "2404       136.000000         0.000000        0.000000        0.000000   \n",
       "2405       136.235091         0.000000        0.000000        0.000000   \n",
       "2406       136.235091         0.000000        0.000000        0.000000   \n",
       "2407       136.235091         0.000000        0.000000        0.000000   \n",
       "\n",
       "      DistRHipLKnee2  DistRHipRKnee2  Violence  \n",
       "0           0.000000        0.000000         0  \n",
       "1          75.471849       75.471849         0  \n",
       "2          89.442719       89.442719         0  \n",
       "3           0.000000        0.000000         0  \n",
       "4           0.000000        0.000000         0  \n",
       "...              ...             ...       ...  \n",
       "2403        0.000000        0.000000         1  \n",
       "2404        0.000000        0.000000         1  \n",
       "2405        0.000000        0.000000         1  \n",
       "2406        0.000000        0.000000         1  \n",
       "2407        0.000000        0.000000         1  \n",
       "\n",
       "[2408 rows x 100 columns]"
      ]
     },
     "execution_count": 4,
     "metadata": {},
     "output_type": "execute_result"
    }
   ],
   "source": [
    "df"
   ]
  },
  {
   "cell_type": "code",
   "execution_count": 7,
   "metadata": {},
   "outputs": [],
   "source": [
    "dataset = df.values"
   ]
  },
  {
   "cell_type": "code",
   "execution_count": 8,
   "metadata": {},
   "outputs": [
    {
     "data": {
      "text/plain": [
       "array([[0.00000000e+00, 1.20000000e+02, 6.40000000e+01, ...,\n",
       "        0.00000000e+00, 0.00000000e+00, 0.00000000e+00],\n",
       "       [2.20000000e+01, 0.00000000e+00, 0.00000000e+00, ...,\n",
       "        7.54718491e+01, 7.54718491e+01, 0.00000000e+00],\n",
       "       [2.90000000e+01, 0.00000000e+00, 0.00000000e+00, ...,\n",
       "        8.94427191e+01, 8.94427191e+01, 0.00000000e+00],\n",
       "       ...,\n",
       "       [1.24840000e+04, 1.52000000e+02, 4.80000000e+01, ...,\n",
       "        0.00000000e+00, 0.00000000e+00, 1.00000000e+00],\n",
       "       [1.24850000e+04, 1.52000000e+02, 4.80000000e+01, ...,\n",
       "        0.00000000e+00, 0.00000000e+00, 1.00000000e+00],\n",
       "       [1.24860000e+04, 1.52000000e+02, 4.80000000e+01, ...,\n",
       "        0.00000000e+00, 0.00000000e+00, 1.00000000e+00]])"
      ]
     },
     "execution_count": 8,
     "metadata": {},
     "output_type": "execute_result"
    }
   ],
   "source": [
    "dataset"
   ]
  },
  {
   "cell_type": "code",
   "execution_count": 9,
   "metadata": {},
   "outputs": [],
   "source": [
    "X = dataset[:,0:99] #Input features, the first 99 columns of the dataset"
   ]
  },
  {
   "cell_type": "code",
   "execution_count": 10,
   "metadata": {},
   "outputs": [
    {
     "data": {
      "text/plain": [
       "array([[    0.        ,   120.        ,    64.        , ...,\n",
       "            0.        ,     0.        ,     0.        ],\n",
       "       [   22.        ,     0.        ,     0.        , ...,\n",
       "           64.49806199,    75.47184906,    75.47184906],\n",
       "       [   29.        ,     0.        ,     0.        , ...,\n",
       "           89.4427191 ,    89.4427191 ,    89.4427191 ],\n",
       "       ...,\n",
       "       [12484.        ,   152.        ,    48.        , ...,\n",
       "            0.        ,     0.        ,     0.        ],\n",
       "       [12485.        ,   152.        ,    48.        , ...,\n",
       "            0.        ,     0.        ,     0.        ],\n",
       "       [12486.        ,   152.        ,    48.        , ...,\n",
       "            0.        ,     0.        ,     0.        ]])"
      ]
     },
     "execution_count": 10,
     "metadata": {},
     "output_type": "execute_result"
    }
   ],
   "source": [
    "X"
   ]
  },
  {
   "cell_type": "code",
   "execution_count": 12,
   "metadata": {},
   "outputs": [],
   "source": [
    "Y = dataset[:,99] #The feature i aim to predict"
   ]
  },
  {
   "cell_type": "code",
   "execution_count": 13,
   "metadata": {},
   "outputs": [
    {
     "data": {
      "text/plain": [
       "array([0., 0., 0., ..., 1., 1., 1.])"
      ]
     },
     "execution_count": 13,
     "metadata": {},
     "output_type": "execute_result"
    }
   ],
   "source": [
    "Y"
   ]
  },
  {
   "cell_type": "code",
   "execution_count": 15,
   "metadata": {},
   "outputs": [],
   "source": [
    "min_max_scaler = preprocessing.MinMaxScaler()\n",
    "X_scale = min_max_scaler.fit_transform(X) \n",
    "#scaler for make the range between 0 e 1"
   ]
  },
  {
   "cell_type": "code",
   "execution_count": 16,
   "metadata": {},
   "outputs": [
    {
     "data": {
      "text/plain": [
       "array([[0.        , 0.55555556, 0.34782609, ..., 0.        , 0.        ,\n",
       "        0.        ],\n",
       "       [0.00176197, 0.        , 0.        , ..., 0.37921671, 0.4026325 ,\n",
       "        0.41611507],\n",
       "       [0.0023226 , 0.        , 0.        , ..., 0.52587895, 0.47716528,\n",
       "        0.49314365],\n",
       "       ...,\n",
       "       [0.99983982, 0.7037037 , 0.26086957, ..., 0.        , 0.        ,\n",
       "        0.        ],\n",
       "       [0.99991991, 0.7037037 , 0.26086957, ..., 0.        , 0.        ,\n",
       "        0.        ],\n",
       "       [1.        , 0.7037037 , 0.26086957, ..., 0.        , 0.        ,\n",
       "        0.        ]])"
      ]
     },
     "execution_count": 16,
     "metadata": {},
     "output_type": "execute_result"
    }
   ],
   "source": [
    "X_scale"
   ]
  },
  {
   "cell_type": "markdown",
   "metadata": {},
   "source": [
    "Splitting the dataset, val_and_test size will be 30% of the overall dataset, then we split again in two parts\n",
    "test and val."
   ]
  },
  {
   "cell_type": "code",
   "execution_count": 17,
   "metadata": {},
   "outputs": [],
   "source": [
    "X_train, X_val_and_test, Y_train, Y_val_and_test = train_test_split(X_scale, Y, test_size=0.3)"
   ]
  },
  {
   "cell_type": "code",
   "execution_count": 18,
   "metadata": {},
   "outputs": [],
   "source": [
    "X_val, X_test, Y_val, Y_test = train_test_split(X_val_and_test, Y_val_and_test, test_size=0.5)"
   ]
  },
  {
   "cell_type": "code",
   "execution_count": 19,
   "metadata": {},
   "outputs": [
    {
     "name": "stdout",
     "output_type": "stream",
     "text": [
      "(1685, 99) (361, 99) (362, 99) (1685,) (361,) (362,)\n"
     ]
    }
   ],
   "source": [
    "print(X_train.shape, X_val.shape, X_test.shape, Y_train.shape, Y_val.shape, Y_test.shape)"
   ]
  },
  {
   "cell_type": "markdown",
   "metadata": {},
   "source": [
    "# Building the neural network"
   ]
  },
  {
   "cell_type": "code",
   "execution_count": 31,
   "metadata": {},
   "outputs": [],
   "source": [
    "model_3 = Sequential([  \n",
    "    Dense(4096, activation='relu', \n",
    "    kernel_regularizer=regularizers.l2(0.01),\n",
    "    input_shape=(99,)),\n",
    "    Dropout(0.3),\n",
    "    Dense(2048, activation='relu',\n",
    "    kernel_regularizer=regularizers.l2(0.01)), \n",
    "    Dropout(0.3),\n",
    "    Dense(1024,\n",
    "    activation='relu',\n",
    "    kernel_regularizer=regularizers.l2(0.01)),    \n",
    "    Dropout(0.3),    \n",
    "    Dense(512, activation='relu', \n",
    "    kernel_regularizer=regularizers.l2(0.01)),    \n",
    "    Dropout(0.3),    \n",
    "    Dense(1, activation='sigmoid', \n",
    "    kernel_regularizer=regularizers.l2(0.01)),])"
   ]
  },
  {
   "cell_type": "code",
   "execution_count": 32,
   "metadata": {},
   "outputs": [],
   "source": [
    "model_3.compile(optimizer='adam',      \n",
    "                loss='binary_crossentropy',    \n",
    "                metrics=['accuracy'])"
   ]
  },
  {
   "cell_type": "code",
   "execution_count": 33,
   "metadata": {},
   "outputs": [
    {
     "name": "stdout",
     "output_type": "stream",
     "text": [
      "Train on 1685 samples, validate on 361 samples\n",
      "Epoch 1/100\n",
      "1685/1685 [==============================] - 16s 9ms/step - loss: 11.9863 - accuracy: 0.7869 - val_loss: 1.0256 - val_accuracy: 0.8975\n",
      "Epoch 2/100\n",
      "1685/1685 [==============================] - 14s 9ms/step - loss: 0.5882 - accuracy: 0.9395 - val_loss: 0.4330 - val_accuracy: 0.9557\n",
      "Epoch 3/100\n",
      "1685/1685 [==============================] - 14s 9ms/step - loss: 0.4396 - accuracy: 0.9306 - val_loss: 0.3494 - val_accuracy: 0.9695\n",
      "Epoch 4/100\n",
      "1685/1685 [==============================] - 14s 9ms/step - loss: 0.3678 - accuracy: 0.9484 - val_loss: 0.3506 - val_accuracy: 0.9668\n",
      "Epoch 5/100\n",
      "1685/1685 [==============================] - 15s 9ms/step - loss: 0.3172 - accuracy: 0.9757 - val_loss: 0.2853 - val_accuracy: 0.9834\n",
      "Epoch 6/100\n",
      "1685/1685 [==============================] - 14s 9ms/step - loss: 0.3134 - accuracy: 0.9668 - val_loss: 0.3651 - val_accuracy: 0.9307\n",
      "Epoch 7/100\n",
      "1685/1685 [==============================] - 14s 9ms/step - loss: 0.2831 - accuracy: 0.9786 - val_loss: 0.3917 - val_accuracy: 0.9307\n",
      "Epoch 8/100\n",
      "1685/1685 [==============================] - 15s 9ms/step - loss: 0.2777 - accuracy: 0.9822 - val_loss: 0.3019 - val_accuracy: 0.9723\n",
      "Epoch 9/100\n",
      "1685/1685 [==============================] - 15s 9ms/step - loss: 0.3258 - accuracy: 0.9537 - val_loss: 0.2560 - val_accuracy: 0.9917\n",
      "Epoch 10/100\n",
      "1685/1685 [==============================] - 15s 9ms/step - loss: 0.2595 - accuracy: 0.9858 - val_loss: 0.2758 - val_accuracy: 0.9834\n",
      "Epoch 11/100\n",
      "1685/1685 [==============================] - 15s 9ms/step - loss: 0.2612 - accuracy: 0.9834 - val_loss: 0.2471 - val_accuracy: 0.9861\n",
      "Epoch 12/100\n",
      "1685/1685 [==============================] - 14s 9ms/step - loss: 0.2401 - accuracy: 0.9911 - val_loss: 0.2404 - val_accuracy: 0.9917\n",
      "Epoch 13/100\n",
      "1685/1685 [==============================] - 14s 9ms/step - loss: 0.2705 - accuracy: 0.9769 - val_loss: 0.4496 - val_accuracy: 0.8947\n",
      "Epoch 14/100\n",
      "1685/1685 [==============================] - 14s 9ms/step - loss: 0.2672 - accuracy: 0.9774 - val_loss: 0.2467 - val_accuracy: 0.9945\n",
      "Epoch 15/100\n",
      "1685/1685 [==============================] - 14s 9ms/step - loss: 0.2562 - accuracy: 0.9834 - val_loss: 0.2402 - val_accuracy: 0.9889\n",
      "Epoch 16/100\n",
      "1685/1685 [==============================] - 15s 9ms/step - loss: 0.2298 - accuracy: 0.9923 - val_loss: 0.2331 - val_accuracy: 1.0000\n",
      "Epoch 17/100\n",
      "1685/1685 [==============================] - 15s 9ms/step - loss: 0.2607 - accuracy: 0.9780 - val_loss: 0.2598 - val_accuracy: 0.9834\n",
      "Epoch 18/100\n",
      "1685/1685 [==============================] - 14s 9ms/step - loss: 0.2476 - accuracy: 0.9869 - val_loss: 0.2875 - val_accuracy: 0.9501\n",
      "Epoch 19/100\n",
      "1685/1685 [==============================] - 14s 9ms/step - loss: 0.2831 - accuracy: 0.9715 - val_loss: 0.2373 - val_accuracy: 0.9972\n",
      "Epoch 20/100\n",
      "1685/1685 [==============================] - 14s 9ms/step - loss: 0.2433 - accuracy: 0.9893 - val_loss: 0.2396 - val_accuracy: 0.9945\n",
      "Epoch 21/100\n",
      "1685/1685 [==============================] - 14s 9ms/step - loss: 0.2324 - accuracy: 0.9911 - val_loss: 0.2506 - val_accuracy: 0.9834\n",
      "Epoch 22/100\n",
      "1685/1685 [==============================] - 14s 8ms/step - loss: 0.2574 - accuracy: 0.9804 - val_loss: 0.2379 - val_accuracy: 0.9889\n",
      "Epoch 23/100\n",
      "1685/1685 [==============================] - 14s 9ms/step - loss: 0.2861 - accuracy: 0.9614 - val_loss: 0.2644 - val_accuracy: 0.9751\n",
      "Epoch 24/100\n",
      "1685/1685 [==============================] - 14s 9ms/step - loss: 0.2371 - accuracy: 0.9911 - val_loss: 0.2284 - val_accuracy: 0.9889\n",
      "Epoch 25/100\n",
      "1685/1685 [==============================] - 14s 9ms/step - loss: 0.2461 - accuracy: 0.9840 - val_loss: 0.2350 - val_accuracy: 0.9945\n",
      "Epoch 26/100\n",
      "1685/1685 [==============================] - 14s 9ms/step - loss: 0.2325 - accuracy: 0.9893 - val_loss: 0.2321 - val_accuracy: 0.9889\n",
      "Epoch 27/100\n",
      "1685/1685 [==============================] - 14s 9ms/step - loss: 0.2253 - accuracy: 0.9935 - val_loss: 0.2182 - val_accuracy: 0.9972\n",
      "Epoch 28/100\n",
      "1685/1685 [==============================] - 14s 9ms/step - loss: 0.2657 - accuracy: 0.9757 - val_loss: 0.2633 - val_accuracy: 0.9834\n",
      "Epoch 29/100\n",
      "1685/1685 [==============================] - 14s 9ms/step - loss: 0.2925 - accuracy: 0.9620 - val_loss: 0.3165 - val_accuracy: 0.9335\n",
      "Epoch 30/100\n",
      "1685/1685 [==============================] - 14s 9ms/step - loss: 0.2428 - accuracy: 0.9899 - val_loss: 0.2307 - val_accuracy: 0.9889\n",
      "Epoch 31/100\n",
      "1685/1685 [==============================] - 14s 9ms/step - loss: 0.2245 - accuracy: 0.9929 - val_loss: 0.2395 - val_accuracy: 0.9917\n",
      "Epoch 32/100\n",
      "1685/1685 [==============================] - 14s 9ms/step - loss: 0.2259 - accuracy: 0.9899 - val_loss: 0.2432 - val_accuracy: 0.9834\n",
      "Epoch 33/100\n",
      "1685/1685 [==============================] - 14s 9ms/step - loss: 0.2324 - accuracy: 0.9899 - val_loss: 0.2335 - val_accuracy: 0.9889\n",
      "Epoch 34/100\n",
      "1685/1685 [==============================] - 14s 9ms/step - loss: 0.2550 - accuracy: 0.9786 - val_loss: 0.2496 - val_accuracy: 0.9834\n",
      "Epoch 35/100\n",
      "1685/1685 [==============================] - 14s 9ms/step - loss: 0.2237 - accuracy: 0.9917 - val_loss: 0.2414 - val_accuracy: 0.9806\n",
      "Epoch 36/100\n",
      "1685/1685 [==============================] - 14s 9ms/step - loss: 0.2275 - accuracy: 0.9875 - val_loss: 0.2233 - val_accuracy: 0.9945\n",
      "Epoch 37/100\n",
      "1685/1685 [==============================] - 14s 9ms/step - loss: 0.2182 - accuracy: 0.9935 - val_loss: 0.2553 - val_accuracy: 0.9778\n",
      "Epoch 38/100\n",
      "1685/1685 [==============================] - 15s 9ms/step - loss: 0.2237 - accuracy: 0.9905 - val_loss: 0.2702 - val_accuracy: 0.9695\n",
      "Epoch 39/100\n",
      "1685/1685 [==============================] - 14s 9ms/step - loss: 0.2246 - accuracy: 0.9929 - val_loss: 0.2166 - val_accuracy: 0.9945\n",
      "Epoch 40/100\n",
      "1685/1685 [==============================] - 14s 9ms/step - loss: 0.2224 - accuracy: 0.9893 - val_loss: 0.2219 - val_accuracy: 0.9917\n",
      "Epoch 41/100\n",
      "1685/1685 [==============================] - 14s 9ms/step - loss: 0.2246 - accuracy: 0.9893 - val_loss: 0.2727 - val_accuracy: 0.9778\n",
      "Epoch 42/100\n",
      "1685/1685 [==============================] - 14s 9ms/step - loss: 0.2350 - accuracy: 0.9864 - val_loss: 0.2590 - val_accuracy: 0.9751\n",
      "Epoch 43/100\n",
      "1685/1685 [==============================] - 14s 9ms/step - loss: 0.2706 - accuracy: 0.9721 - val_loss: 0.2721 - val_accuracy: 0.9640\n",
      "Epoch 44/100\n",
      "1685/1685 [==============================] - 14s 9ms/step - loss: 0.2474 - accuracy: 0.9816 - val_loss: 0.2271 - val_accuracy: 0.9917\n",
      "Epoch 45/100\n",
      "1685/1685 [==============================] - 14s 9ms/step - loss: 0.2245 - accuracy: 0.9929 - val_loss: 0.2190 - val_accuracy: 0.9945\n",
      "Epoch 46/100\n",
      "1685/1685 [==============================] - 14s 9ms/step - loss: 0.2238 - accuracy: 0.9899 - val_loss: 0.2220 - val_accuracy: 0.9972\n",
      "Epoch 47/100\n",
      "1685/1685 [==============================] - 14s 9ms/step - loss: 0.2238 - accuracy: 0.9917 - val_loss: 0.2244 - val_accuracy: 0.9945\n",
      "Epoch 48/100\n",
      "1685/1685 [==============================] - 14s 9ms/step - loss: 0.2595 - accuracy: 0.9715 - val_loss: 0.3396 - val_accuracy: 0.9307\n",
      "Epoch 49/100\n",
      "1685/1685 [==============================] - 14s 9ms/step - loss: 0.2396 - accuracy: 0.9840 - val_loss: 0.2205 - val_accuracy: 0.9972\n",
      "Epoch 50/100\n",
      "1685/1685 [==============================] - 14s 9ms/step - loss: 0.2241 - accuracy: 0.9923 - val_loss: 0.2175 - val_accuracy: 0.9945\n",
      "Epoch 51/100\n",
      "1685/1685 [==============================] - 14s 9ms/step - loss: 0.2453 - accuracy: 0.9828 - val_loss: 0.2275 - val_accuracy: 0.9917\n",
      "Epoch 52/100\n",
      "1685/1685 [==============================] - 15s 9ms/step - loss: 0.2314 - accuracy: 0.9899 - val_loss: 0.2494 - val_accuracy: 0.9806\n",
      "Epoch 53/100\n",
      "1685/1685 [==============================] - 14s 9ms/step - loss: 0.2281 - accuracy: 0.9887 - val_loss: 0.2551 - val_accuracy: 0.9695\n",
      "Epoch 54/100\n",
      "1685/1685 [==============================] - 14s 9ms/step - loss: 0.2365 - accuracy: 0.9869 - val_loss: 0.2289 - val_accuracy: 0.9917\n",
      "Epoch 55/100\n",
      "1685/1685 [==============================] - 14s 9ms/step - loss: 0.2284 - accuracy: 0.9875 - val_loss: 0.2335 - val_accuracy: 0.9861\n",
      "Epoch 56/100\n",
      "1685/1685 [==============================] - 14s 9ms/step - loss: 0.2227 - accuracy: 0.9917 - val_loss: 0.2231 - val_accuracy: 0.9972\n",
      "Epoch 57/100\n",
      "1685/1685 [==============================] - 14s 9ms/step - loss: 0.2431 - accuracy: 0.9816 - val_loss: 0.2202 - val_accuracy: 0.9972\n",
      "Epoch 58/100\n",
      "1685/1685 [==============================] - 14s 9ms/step - loss: 0.2329 - accuracy: 0.9852 - val_loss: 0.2470 - val_accuracy: 0.9861\n",
      "Epoch 59/100\n",
      "1685/1685 [==============================] - 15s 9ms/step - loss: 0.2489 - accuracy: 0.9763 - val_loss: 0.2269 - val_accuracy: 0.9889\n",
      "Epoch 60/100\n",
      "1685/1685 [==============================] - 14s 9ms/step - loss: 0.2326 - accuracy: 0.9887 - val_loss: 0.2234 - val_accuracy: 0.9917\n",
      "Epoch 61/100\n",
      "1685/1685 [==============================] - 14s 9ms/step - loss: 0.2238 - accuracy: 0.9917 - val_loss: 0.2187 - val_accuracy: 0.9972\n",
      "Epoch 62/100\n",
      "1685/1685 [==============================] - 14s 9ms/step - loss: 0.2450 - accuracy: 0.9804 - val_loss: 0.2260 - val_accuracy: 0.9945\n",
      "Epoch 63/100\n",
      "1685/1685 [==============================] - 14s 8ms/step - loss: 0.2476 - accuracy: 0.9816 - val_loss: 0.2412 - val_accuracy: 0.9861\n",
      "Epoch 64/100\n",
      "1685/1685 [==============================] - 14s 8ms/step - loss: 0.2340 - accuracy: 0.9834 - val_loss: 0.2179 - val_accuracy: 0.9945\n",
      "Epoch 65/100\n",
      "1685/1685 [==============================] - 14s 9ms/step - loss: 0.2333 - accuracy: 0.9852 - val_loss: 0.2247 - val_accuracy: 0.9917\n",
      "Epoch 66/100\n",
      "1685/1685 [==============================] - 14s 9ms/step - loss: 0.2220 - accuracy: 0.9917 - val_loss: 0.2346 - val_accuracy: 0.9861\n",
      "Epoch 67/100\n",
      "1685/1685 [==============================] - 14s 9ms/step - loss: 0.2167 - accuracy: 0.9935 - val_loss: 0.2189 - val_accuracy: 0.9945\n",
      "Epoch 68/100\n",
      "1685/1685 [==============================] - 14s 9ms/step - loss: 0.2230 - accuracy: 0.9935 - val_loss: 0.2270 - val_accuracy: 0.9861\n",
      "Epoch 69/100\n",
      "1685/1685 [==============================] - 14s 9ms/step - loss: 0.2223 - accuracy: 0.9911 - val_loss: 0.2189 - val_accuracy: 0.9945\n",
      "Epoch 70/100\n",
      "1685/1685 [==============================] - 14s 9ms/step - loss: 0.2312 - accuracy: 0.9852 - val_loss: 0.2647 - val_accuracy: 0.9695\n",
      "Epoch 71/100\n",
      "1685/1685 [==============================] - 14s 9ms/step - loss: 0.2965 - accuracy: 0.9513 - val_loss: 0.3136 - val_accuracy: 0.9474\n",
      "Epoch 72/100\n",
      "1685/1685 [==============================] - 14s 9ms/step - loss: 0.2582 - accuracy: 0.9727 - val_loss: 0.2718 - val_accuracy: 0.9751\n",
      "Epoch 73/100\n",
      "1685/1685 [==============================] - 14s 9ms/step - loss: 0.2333 - accuracy: 0.9881 - val_loss: 0.2310 - val_accuracy: 0.9889\n",
      "Epoch 74/100\n",
      "1685/1685 [==============================] - 14s 9ms/step - loss: 0.2272 - accuracy: 0.9899 - val_loss: 0.2421 - val_accuracy: 0.9806\n",
      "Epoch 75/100\n",
      "1685/1685 [==============================] - 14s 9ms/step - loss: 0.2279 - accuracy: 0.9881 - val_loss: 0.2291 - val_accuracy: 0.9972\n",
      "Epoch 76/100\n",
      "1685/1685 [==============================] - 14s 9ms/step - loss: 0.2308 - accuracy: 0.9899 - val_loss: 0.2262 - val_accuracy: 0.9917\n",
      "Epoch 77/100\n",
      "1685/1685 [==============================] - 14s 9ms/step - loss: 0.2242 - accuracy: 0.9875 - val_loss: 0.2283 - val_accuracy: 0.9861\n",
      "Epoch 78/100\n",
      "1685/1685 [==============================] - 14s 9ms/step - loss: 0.2217 - accuracy: 0.9935 - val_loss: 0.2187 - val_accuracy: 0.9945\n",
      "Epoch 79/100\n",
      "1685/1685 [==============================] - 14s 9ms/step - loss: 0.2192 - accuracy: 0.9923 - val_loss: 0.2229 - val_accuracy: 0.9861\n",
      "Epoch 80/100\n",
      "1685/1685 [==============================] - 14s 9ms/step - loss: 0.2422 - accuracy: 0.9780 - val_loss: 0.2421 - val_accuracy: 0.9861\n",
      "Epoch 81/100\n",
      "1685/1685 [==============================] - 14s 9ms/step - loss: 0.2226 - accuracy: 0.9905 - val_loss: 0.2172 - val_accuracy: 0.9972\n",
      "Epoch 82/100\n",
      "1685/1685 [==============================] - 14s 9ms/step - loss: 0.2229 - accuracy: 0.9905 - val_loss: 0.2162 - val_accuracy: 0.9917\n",
      "Epoch 83/100\n",
      "1685/1685 [==============================] - 14s 9ms/step - loss: 0.2181 - accuracy: 0.9917 - val_loss: 0.2165 - val_accuracy: 0.9945\n",
      "Epoch 84/100\n",
      "1685/1685 [==============================] - 14s 9ms/step - loss: 0.2239 - accuracy: 0.9875 - val_loss: 0.2295 - val_accuracy: 0.9806\n",
      "Epoch 85/100\n",
      "1685/1685 [==============================] - 14s 9ms/step - loss: 0.2322 - accuracy: 0.9858 - val_loss: 0.2302 - val_accuracy: 0.9889\n",
      "Epoch 86/100\n",
      "1685/1685 [==============================] - 14s 8ms/step - loss: 0.2214 - accuracy: 0.9893 - val_loss: 0.2256 - val_accuracy: 0.9889\n",
      "Epoch 87/100\n",
      "1685/1685 [==============================] - 14s 9ms/step - loss: 0.2173 - accuracy: 0.9941 - val_loss: 0.2161 - val_accuracy: 0.9945\n",
      "Epoch 88/100\n",
      "1685/1685 [==============================] - 14s 9ms/step - loss: 0.2219 - accuracy: 0.9905 - val_loss: 0.2170 - val_accuracy: 0.9945\n",
      "Epoch 89/100\n",
      "1685/1685 [==============================] - 14s 9ms/step - loss: 0.2270 - accuracy: 0.9875 - val_loss: 0.2256 - val_accuracy: 0.9889\n",
      "Epoch 90/100\n",
      "1685/1685 [==============================] - 14s 9ms/step - loss: 0.2246 - accuracy: 0.9941 - val_loss: 0.2192 - val_accuracy: 0.9945\n",
      "Epoch 91/100\n",
      "1685/1685 [==============================] - 14s 9ms/step - loss: 0.2186 - accuracy: 0.9923 - val_loss: 0.2136 - val_accuracy: 0.9972\n",
      "Epoch 92/100\n",
      "1685/1685 [==============================] - 14s 9ms/step - loss: 0.2238 - accuracy: 0.9899 - val_loss: 0.2143 - val_accuracy: 0.9945\n",
      "Epoch 93/100\n",
      "1685/1685 [==============================] - 14s 9ms/step - loss: 0.2260 - accuracy: 0.9881 - val_loss: 0.2389 - val_accuracy: 0.9889\n",
      "Epoch 94/100\n",
      "1685/1685 [==============================] - 14s 9ms/step - loss: 0.2302 - accuracy: 0.9869 - val_loss: 0.2166 - val_accuracy: 1.0000\n",
      "Epoch 95/100\n",
      "1685/1685 [==============================] - 14s 9ms/step - loss: 0.2278 - accuracy: 0.9858 - val_loss: 0.2158 - val_accuracy: 0.9972\n",
      "Epoch 96/100\n",
      "1685/1685 [==============================] - 14s 9ms/step - loss: 0.2207 - accuracy: 0.9887 - val_loss: 0.2205 - val_accuracy: 0.9945\n",
      "Epoch 97/100\n",
      "1685/1685 [==============================] - 14s 9ms/step - loss: 0.2232 - accuracy: 0.9917 - val_loss: 0.2505 - val_accuracy: 0.9751\n",
      "Epoch 98/100\n",
      "1685/1685 [==============================] - 14s 9ms/step - loss: 0.2265 - accuracy: 0.9858 - val_loss: 0.2312 - val_accuracy: 0.9889\n",
      "Epoch 99/100\n",
      "1685/1685 [==============================] - 14s 9ms/step - loss: 0.2429 - accuracy: 0.9816 - val_loss: 0.2412 - val_accuracy: 0.9834\n",
      "Epoch 100/100\n",
      "1685/1685 [==============================] - 15s 9ms/step - loss: 0.2327 - accuracy: 0.9846 - val_loss: 0.2257 - val_accuracy: 0.9917\n"
     ]
    }
   ],
   "source": [
    "hist_3 = model_3.fit(X_train, Y_train,batch_size=32, epochs=100, validation_data=(X_val, Y_val))"
   ]
  },
  {
   "cell_type": "code",
   "execution_count": 34,
   "metadata": {},
   "outputs": [
    {
     "data": {
      "image/png": "[encoded data removed]",
      "text/plain": [
       "<Figure size 432x288 with 1 Axes>"
      ]
     },
     "metadata": {
      "needs_background": "light"
     },
     "output_type": "display_data"
    }
   ],
   "source": [
    "plt.plot(hist_3.history['loss'])\n",
    "plt.plot(hist_3.history['val_loss'])\n",
    "plt.title('Model loss')\n",
    "plt.ylabel('Loss')\n",
    "plt.xlabel('Epoch')\n",
    "plt.legend(['Train', 'Val'], loc='upper right')\n",
    "plt.ylim(top=1.2, bottom=0)\n",
    "plt.show()"
   ]
  },
  {
   "cell_type": "code",
   "execution_count": 35,
   "metadata": {},
   "outputs": [
    {
     "data": {
      "image/png": "[encoded data removed]",
      "text/plain": [
       "<Figure size 432x288 with 1 Axes>"
      ]
     },
     "metadata": {
      "needs_background": "light"
     },
     "output_type": "display_data"
    }
   ],
   "source": [
    "plt.plot(hist_3.history['accuracy'])\n",
    "plt.plot(hist_3.history['val_accuracy'])\n",
    "plt.title('Model accuracy')\n",
    "plt.ylabel('Accuracy')\n",
    "plt.xlabel('Epoch')\n",
    "plt.legend(['Train', 'Val'], loc='lower right')\n",
    "plt.show()"
   ]
  },
  {
   "cell_type": "markdown",
   "metadata": {},
   "source": [
    "Save the model"
   ]
  },
  {
   "cell_type": "code",
   "execution_count": 36,
   "metadata": {},
   "outputs": [],
   "source": [
    "model_3.save('models/model_NN.h5')"
   ]
  },
  {
   "cell_type": "code",
   "execution_count": 37,
   "metadata": {},
   "outputs": [
    {
     "name": "stdout",
     "output_type": "stream",
     "text": [
      "1685/1685 [==============================] - 2s 1ms/step\n"
     ]
    }
   ],
   "source": [
    "score = model_3.evaluate(X_train, Y_train, verbose=1)"
   ]
  },
  {
   "cell_type": "code",
   "execution_count": 38,
   "metadata": {},
   "outputs": [
    {
     "data": {
      "text/plain": [
       "[0.2149587182156764, 0.9988130331039429]"
      ]
     },
     "execution_count": 38,
     "metadata": {},
     "output_type": "execute_result"
    }
   ],
   "source": [
    "score"
   ]
  }
 ],
 "metadata": {
  "kernelspec": {
   "display_name": "Python 3",
   "language": "python",
   "name": "python3"
  },
  "language_info": {
   "codemirror_mode": {
    "name": "ipython",
    "version": 3
   },
   "file_extension": ".py",
   "mimetype": "text/x-python",
   "name": "python",
   "nbconvert_exporter": "python",
   "pygments_lexer": "ipython3",
   "version": "3.7.7"
  }
 },
 "nbformat": 4,
 "nbformat_minor": 4
}
