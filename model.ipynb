{
 "cells": [
  {
   "cell_type": "code",
   "execution_count": 1,
   "metadata": {},
   "outputs": [
    {
     "name": "stderr",
     "output_type": "stream",
     "text": [
      "Using TensorFlow backend.\n"
     ]
    }
   ],
   "source": [
    "import pandas as pd\n",
    "from sklearn import preprocessing\n",
    "from sklearn.model_selection import train_test_split\n",
    "from keras.models import Sequential\n",
    "from keras.layers import Dense\n",
    "import matplotlib.pyplot as plt\n",
    "import _pickle as pickle \n",
    "from pickle import dump, load\n",
    "from keras.layers import Dropout\n",
    "from keras import regularizers"
   ]
  },
  {
   "cell_type": "code",
   "execution_count": 2,
   "metadata": {},
   "outputs": [],
   "source": [
    "#Loading dataset"
   ]
  },
  {
   "cell_type": "code",
   "execution_count": 3,
   "metadata": {},
   "outputs": [],
   "source": [
    "df = pd.read_csv('dataset.csv')  #error_bad_lines=False"
   ]
  },
  {
   "cell_type": "code",
   "execution_count": 4,
   "metadata": {},
   "outputs": [
    {
     "data": {
      "text/html": [
       "<div>\n",
       "<style scoped>\n",
       "    .dataframe tbody tr th:only-of-type {\n",
       "        vertical-align: middle;\n",
       "    }\n",
       "\n",
       "    .dataframe tbody tr th {\n",
       "        vertical-align: top;\n",
       "    }\n",
       "\n",
       "    .dataframe thead th {\n",
       "        text-align: right;\n",
       "    }\n",
       "</style>\n",
       "<table border=\"1\" class=\"dataframe\">\n",
       "  <thead>\n",
       "    <tr style=\"text-align: right;\">\n",
       "      <th></th>\n",
       "      <th>Xnose1</th>\n",
       "      <th>Ynose1</th>\n",
       "      <th>Xnose2</th>\n",
       "      <th>Ynose2</th>\n",
       "      <th>Xneck1</th>\n",
       "      <th>Yneck1</th>\n",
       "      <th>Xneck2</th>\n",
       "      <th>Yneck2</th>\n",
       "      <th>XRshoulder1</th>\n",
       "      <th>YRshoulder1</th>\n",
       "      <th>...</th>\n",
       "      <th>DistNoseRKnee2</th>\n",
       "      <th>DistLHipLWrist2</th>\n",
       "      <th>DistLHipRWrist2</th>\n",
       "      <th>DistRHipLWrist2</th>\n",
       "      <th>DistRHipRWrist2</th>\n",
       "      <th>DistLHipLKnee2</th>\n",
       "      <th>DistLHipRKnee2</th>\n",
       "      <th>DistRHipLKnee2</th>\n",
       "      <th>DistRHipRKnee2</th>\n",
       "      <th>Violence</th>\n",
       "    </tr>\n",
       "  </thead>\n",
       "  <tbody>\n",
       "    <tr>\n",
       "      <th>0</th>\n",
       "      <td>120</td>\n",
       "      <td>64</td>\n",
       "      <td>0</td>\n",
       "      <td>0</td>\n",
       "      <td>136</td>\n",
       "      <td>64</td>\n",
       "      <td>0</td>\n",
       "      <td>0</td>\n",
       "      <td>152</td>\n",
       "      <td>56</td>\n",
       "      <td>...</td>\n",
       "      <td>0.000000</td>\n",
       "      <td>0.000000</td>\n",
       "      <td>0.000000</td>\n",
       "      <td>0.000000</td>\n",
       "      <td>0.000000</td>\n",
       "      <td>0.000000</td>\n",
       "      <td>0.000000</td>\n",
       "      <td>0.000000</td>\n",
       "      <td>0.000000</td>\n",
       "      <td>0</td>\n",
       "    </tr>\n",
       "    <tr>\n",
       "      <th>1</th>\n",
       "      <td>0</td>\n",
       "      <td>0</td>\n",
       "      <td>0</td>\n",
       "      <td>0</td>\n",
       "      <td>80</td>\n",
       "      <td>96</td>\n",
       "      <td>128</td>\n",
       "      <td>88</td>\n",
       "      <td>88</td>\n",
       "      <td>88</td>\n",
       "      <td>...</td>\n",
       "      <td>0.000000</td>\n",
       "      <td>0.000000</td>\n",
       "      <td>0.000000</td>\n",
       "      <td>0.000000</td>\n",
       "      <td>0.000000</td>\n",
       "      <td>64.498062</td>\n",
       "      <td>64.498062</td>\n",
       "      <td>75.471849</td>\n",
       "      <td>75.471849</td>\n",
       "      <td>0</td>\n",
       "    </tr>\n",
       "    <tr>\n",
       "      <th>2</th>\n",
       "      <td>0</td>\n",
       "      <td>0</td>\n",
       "      <td>0</td>\n",
       "      <td>0</td>\n",
       "      <td>72</td>\n",
       "      <td>96</td>\n",
       "      <td>160</td>\n",
       "      <td>96</td>\n",
       "      <td>0</td>\n",
       "      <td>0</td>\n",
       "      <td>...</td>\n",
       "      <td>0.000000</td>\n",
       "      <td>0.000000</td>\n",
       "      <td>0.000000</td>\n",
       "      <td>0.000000</td>\n",
       "      <td>0.000000</td>\n",
       "      <td>89.442719</td>\n",
       "      <td>89.442719</td>\n",
       "      <td>89.442719</td>\n",
       "      <td>89.442719</td>\n",
       "      <td>0</td>\n",
       "    </tr>\n",
       "    <tr>\n",
       "      <th>3</th>\n",
       "      <td>0</td>\n",
       "      <td>0</td>\n",
       "      <td>200</td>\n",
       "      <td>72</td>\n",
       "      <td>0</td>\n",
       "      <td>0</td>\n",
       "      <td>216</td>\n",
       "      <td>80</td>\n",
       "      <td>0</td>\n",
       "      <td>0</td>\n",
       "      <td>...</td>\n",
       "      <td>0.000000</td>\n",
       "      <td>0.000000</td>\n",
       "      <td>0.000000</td>\n",
       "      <td>0.000000</td>\n",
       "      <td>0.000000</td>\n",
       "      <td>0.000000</td>\n",
       "      <td>0.000000</td>\n",
       "      <td>0.000000</td>\n",
       "      <td>0.000000</td>\n",
       "      <td>0</td>\n",
       "    </tr>\n",
       "    <tr>\n",
       "      <th>4</th>\n",
       "      <td>0</td>\n",
       "      <td>0</td>\n",
       "      <td>176</td>\n",
       "      <td>40</td>\n",
       "      <td>208</td>\n",
       "      <td>88</td>\n",
       "      <td>200</td>\n",
       "      <td>56</td>\n",
       "      <td>0</td>\n",
       "      <td>0</td>\n",
       "      <td>...</td>\n",
       "      <td>106.733312</td>\n",
       "      <td>0.000000</td>\n",
       "      <td>0.000000</td>\n",
       "      <td>0.000000</td>\n",
       "      <td>0.000000</td>\n",
       "      <td>0.000000</td>\n",
       "      <td>0.000000</td>\n",
       "      <td>0.000000</td>\n",
       "      <td>0.000000</td>\n",
       "      <td>0</td>\n",
       "    </tr>\n",
       "    <tr>\n",
       "      <th>...</th>\n",
       "      <td>...</td>\n",
       "      <td>...</td>\n",
       "      <td>...</td>\n",
       "      <td>...</td>\n",
       "      <td>...</td>\n",
       "      <td>...</td>\n",
       "      <td>...</td>\n",
       "      <td>...</td>\n",
       "      <td>...</td>\n",
       "      <td>...</td>\n",
       "      <td>...</td>\n",
       "      <td>...</td>\n",
       "      <td>...</td>\n",
       "      <td>...</td>\n",
       "      <td>...</td>\n",
       "      <td>...</td>\n",
       "      <td>...</td>\n",
       "      <td>...</td>\n",
       "      <td>...</td>\n",
       "      <td>...</td>\n",
       "      <td>...</td>\n",
       "    </tr>\n",
       "    <tr>\n",
       "      <th>2403</th>\n",
       "      <td>40</td>\n",
       "      <td>64</td>\n",
       "      <td>152</td>\n",
       "      <td>48</td>\n",
       "      <td>40</td>\n",
       "      <td>80</td>\n",
       "      <td>160</td>\n",
       "      <td>72</td>\n",
       "      <td>16</td>\n",
       "      <td>80</td>\n",
       "      <td>...</td>\n",
       "      <td>0.000000</td>\n",
       "      <td>81.584312</td>\n",
       "      <td>145.986301</td>\n",
       "      <td>58.240879</td>\n",
       "      <td>122.376468</td>\n",
       "      <td>0.000000</td>\n",
       "      <td>0.000000</td>\n",
       "      <td>0.000000</td>\n",
       "      <td>0.000000</td>\n",
       "      <td>1</td>\n",
       "    </tr>\n",
       "    <tr>\n",
       "      <th>2404</th>\n",
       "      <td>152</td>\n",
       "      <td>48</td>\n",
       "      <td>40</td>\n",
       "      <td>64</td>\n",
       "      <td>160</td>\n",
       "      <td>72</td>\n",
       "      <td>40</td>\n",
       "      <td>80</td>\n",
       "      <td>144</td>\n",
       "      <td>64</td>\n",
       "      <td>...</td>\n",
       "      <td>0.000000</td>\n",
       "      <td>112.000000</td>\n",
       "      <td>0.000000</td>\n",
       "      <td>136.000000</td>\n",
       "      <td>0.000000</td>\n",
       "      <td>0.000000</td>\n",
       "      <td>0.000000</td>\n",
       "      <td>0.000000</td>\n",
       "      <td>0.000000</td>\n",
       "      <td>1</td>\n",
       "    </tr>\n",
       "    <tr>\n",
       "      <th>2405</th>\n",
       "      <td>152</td>\n",
       "      <td>48</td>\n",
       "      <td>40</td>\n",
       "      <td>64</td>\n",
       "      <td>160</td>\n",
       "      <td>72</td>\n",
       "      <td>40</td>\n",
       "      <td>80</td>\n",
       "      <td>144</td>\n",
       "      <td>64</td>\n",
       "      <td>...</td>\n",
       "      <td>0.000000</td>\n",
       "      <td>105.223572</td>\n",
       "      <td>0.000000</td>\n",
       "      <td>136.235091</td>\n",
       "      <td>0.000000</td>\n",
       "      <td>0.000000</td>\n",
       "      <td>0.000000</td>\n",
       "      <td>0.000000</td>\n",
       "      <td>0.000000</td>\n",
       "      <td>1</td>\n",
       "    </tr>\n",
       "    <tr>\n",
       "      <th>2406</th>\n",
       "      <td>152</td>\n",
       "      <td>48</td>\n",
       "      <td>40</td>\n",
       "      <td>64</td>\n",
       "      <td>160</td>\n",
       "      <td>72</td>\n",
       "      <td>40</td>\n",
       "      <td>80</td>\n",
       "      <td>144</td>\n",
       "      <td>64</td>\n",
       "      <td>...</td>\n",
       "      <td>0.000000</td>\n",
       "      <td>112.285351</td>\n",
       "      <td>0.000000</td>\n",
       "      <td>136.235091</td>\n",
       "      <td>0.000000</td>\n",
       "      <td>0.000000</td>\n",
       "      <td>0.000000</td>\n",
       "      <td>0.000000</td>\n",
       "      <td>0.000000</td>\n",
       "      <td>1</td>\n",
       "    </tr>\n",
       "    <tr>\n",
       "      <th>2407</th>\n",
       "      <td>152</td>\n",
       "      <td>48</td>\n",
       "      <td>40</td>\n",
       "      <td>64</td>\n",
       "      <td>160</td>\n",
       "      <td>72</td>\n",
       "      <td>40</td>\n",
       "      <td>80</td>\n",
       "      <td>144</td>\n",
       "      <td>64</td>\n",
       "      <td>...</td>\n",
       "      <td>0.000000</td>\n",
       "      <td>112.285351</td>\n",
       "      <td>0.000000</td>\n",
       "      <td>136.235091</td>\n",
       "      <td>0.000000</td>\n",
       "      <td>0.000000</td>\n",
       "      <td>0.000000</td>\n",
       "      <td>0.000000</td>\n",
       "      <td>0.000000</td>\n",
       "      <td>1</td>\n",
       "    </tr>\n",
       "  </tbody>\n",
       "</table>\n",
       "<p>2408 rows × 99 columns</p>\n",
       "</div>"
      ],
      "text/plain": [
       "      Xnose1  Ynose1  Xnose2  Ynose2  Xneck1  Yneck1  Xneck2  Yneck2  \\\n",
       "0        120      64       0       0     136      64       0       0   \n",
       "1          0       0       0       0      80      96     128      88   \n",
       "2          0       0       0       0      72      96     160      96   \n",
       "3          0       0     200      72       0       0     216      80   \n",
       "4          0       0     176      40     208      88     200      56   \n",
       "...      ...     ...     ...     ...     ...     ...     ...     ...   \n",
       "2403      40      64     152      48      40      80     160      72   \n",
       "2404     152      48      40      64     160      72      40      80   \n",
       "2405     152      48      40      64     160      72      40      80   \n",
       "2406     152      48      40      64     160      72      40      80   \n",
       "2407     152      48      40      64     160      72      40      80   \n",
       "\n",
       "      XRshoulder1  YRshoulder1  ...  DistNoseRKnee2  DistLHipLWrist2  \\\n",
       "0             152           56  ...        0.000000         0.000000   \n",
       "1              88           88  ...        0.000000         0.000000   \n",
       "2               0            0  ...        0.000000         0.000000   \n",
       "3               0            0  ...        0.000000         0.000000   \n",
       "4               0            0  ...      106.733312         0.000000   \n",
       "...           ...          ...  ...             ...              ...   \n",
       "2403           16           80  ...        0.000000        81.584312   \n",
       "2404          144           64  ...        0.000000       112.000000   \n",
       "2405          144           64  ...        0.000000       105.223572   \n",
       "2406          144           64  ...        0.000000       112.285351   \n",
       "2407          144           64  ...        0.000000       112.285351   \n",
       "\n",
       "      DistLHipRWrist2  DistRHipLWrist2  DistRHipRWrist2  DistLHipLKnee2  \\\n",
       "0            0.000000         0.000000         0.000000        0.000000   \n",
       "1            0.000000         0.000000         0.000000       64.498062   \n",
       "2            0.000000         0.000000         0.000000       89.442719   \n",
       "3            0.000000         0.000000         0.000000        0.000000   \n",
       "4            0.000000         0.000000         0.000000        0.000000   \n",
       "...               ...              ...              ...             ...   \n",
       "2403       145.986301        58.240879       122.376468        0.000000   \n",
       "2404         0.000000       136.000000         0.000000        0.000000   \n",
       "2405         0.000000       136.235091         0.000000        0.000000   \n",
       "2406         0.000000       136.235091         0.000000        0.000000   \n",
       "2407         0.000000       136.235091         0.000000        0.000000   \n",
       "\n",
       "      DistLHipRKnee2  DistRHipLKnee2  DistRHipRKnee2  Violence  \n",
       "0           0.000000        0.000000        0.000000         0  \n",
       "1          64.498062       75.471849       75.471849         0  \n",
       "2          89.442719       89.442719       89.442719         0  \n",
       "3           0.000000        0.000000        0.000000         0  \n",
       "4           0.000000        0.000000        0.000000         0  \n",
       "...              ...             ...             ...       ...  \n",
       "2403        0.000000        0.000000        0.000000         1  \n",
       "2404        0.000000        0.000000        0.000000         1  \n",
       "2405        0.000000        0.000000        0.000000         1  \n",
       "2406        0.000000        0.000000        0.000000         1  \n",
       "2407        0.000000        0.000000        0.000000         1  \n",
       "\n",
       "[2408 rows x 99 columns]"
      ]
     },
     "execution_count": 4,
     "metadata": {},
     "output_type": "execute_result"
    }
   ],
   "source": [
    "df"
   ]
  },
  {
   "cell_type": "code",
   "execution_count": 5,
   "metadata": {},
   "outputs": [],
   "source": [
    "dataset = df.values"
   ]
  },
  {
   "cell_type": "code",
   "execution_count": 6,
   "metadata": {},
   "outputs": [
    {
     "data": {
      "text/plain": [
       "array([[120.        ,  64.        ,   0.        , ...,   0.        ,\n",
       "          0.        ,   0.        ],\n",
       "       [  0.        ,   0.        ,   0.        , ...,  75.47184906,\n",
       "         75.47184906,   0.        ],\n",
       "       [  0.        ,   0.        ,   0.        , ...,  89.4427191 ,\n",
       "         89.4427191 ,   0.        ],\n",
       "       ...,\n",
       "       [152.        ,  48.        ,  40.        , ...,   0.        ,\n",
       "          0.        ,   1.        ],\n",
       "       [152.        ,  48.        ,  40.        , ...,   0.        ,\n",
       "          0.        ,   1.        ],\n",
       "       [152.        ,  48.        ,  40.        , ...,   0.        ,\n",
       "          0.        ,   1.        ]])"
      ]
     },
     "execution_count": 6,
     "metadata": {},
     "output_type": "execute_result"
    }
   ],
   "source": [
    "dataset"
   ]
  },
  {
   "cell_type": "code",
   "execution_count": 7,
   "metadata": {},
   "outputs": [],
   "source": [
    "X = dataset[:,0:98] #Input features, the first 99 columns of the dataset"
   ]
  },
  {
   "cell_type": "code",
   "execution_count": 8,
   "metadata": {},
   "outputs": [
    {
     "data": {
      "text/plain": [
       "array([[120.        ,  64.        ,   0.        , ...,   0.        ,\n",
       "          0.        ,   0.        ],\n",
       "       [  0.        ,   0.        ,   0.        , ...,  64.49806199,\n",
       "         75.47184906,  75.47184906],\n",
       "       [  0.        ,   0.        ,   0.        , ...,  89.4427191 ,\n",
       "         89.4427191 ,  89.4427191 ],\n",
       "       ...,\n",
       "       [152.        ,  48.        ,  40.        , ...,   0.        ,\n",
       "          0.        ,   0.        ],\n",
       "       [152.        ,  48.        ,  40.        , ...,   0.        ,\n",
       "          0.        ,   0.        ],\n",
       "       [152.        ,  48.        ,  40.        , ...,   0.        ,\n",
       "          0.        ,   0.        ]])"
      ]
     },
     "execution_count": 8,
     "metadata": {},
     "output_type": "execute_result"
    }
   ],
   "source": [
    "X"
   ]
  },
  {
   "cell_type": "code",
   "execution_count": 9,
   "metadata": {},
   "outputs": [],
   "source": [
    "Y = dataset[:,98] #The feature i aim to predict"
   ]
  },
  {
   "cell_type": "code",
   "execution_count": 10,
   "metadata": {},
   "outputs": [
    {
     "data": {
      "text/plain": [
       "array([0., 0., 0., ..., 1., 1., 1.])"
      ]
     },
     "execution_count": 10,
     "metadata": {},
     "output_type": "execute_result"
    }
   ],
   "source": [
    "Y"
   ]
  },
  {
   "cell_type": "code",
   "execution_count": 11,
   "metadata": {},
   "outputs": [],
   "source": [
    "min_max_scaler = preprocessing.MinMaxScaler()\n",
    "X_scale = min_max_scaler.fit_transform(X) \n",
    "#scaler for make the range between 0 e 1"
   ]
  },
  {
   "cell_type": "code",
   "execution_count": 12,
   "metadata": {},
   "outputs": [
    {
     "data": {
      "text/plain": [
       "array([[0.55555556, 0.34782609, 0.        , ..., 0.        , 0.        ,\n",
       "        0.        ],\n",
       "       [0.        , 0.        , 0.        , ..., 0.37921671, 0.4026325 ,\n",
       "        0.41611507],\n",
       "       [0.        , 0.        , 0.        , ..., 0.52587895, 0.47716528,\n",
       "        0.49314365],\n",
       "       ...,\n",
       "       [0.7037037 , 0.26086957, 0.18518519, ..., 0.        , 0.        ,\n",
       "        0.        ],\n",
       "       [0.7037037 , 0.26086957, 0.18518519, ..., 0.        , 0.        ,\n",
       "        0.        ],\n",
       "       [0.7037037 , 0.26086957, 0.18518519, ..., 0.        , 0.        ,\n",
       "        0.        ]])"
      ]
     },
     "execution_count": 12,
     "metadata": {},
     "output_type": "execute_result"
    }
   ],
   "source": [
    "X_scale"
   ]
  },
  {
   "cell_type": "markdown",
   "metadata": {},
   "source": [
    "Splitting the dataset, val_and_test size will be 30% of the overall dataset, then we split again in two parts\n",
    "test and val."
   ]
  },
  {
   "cell_type": "code",
   "execution_count": 13,
   "metadata": {},
   "outputs": [],
   "source": [
    "X_train, X_val_and_test, Y_train, Y_val_and_test = train_test_split(X_scale, Y, test_size=0.3)"
   ]
  },
  {
   "cell_type": "code",
   "execution_count": 14,
   "metadata": {},
   "outputs": [],
   "source": [
    "X_val, X_test, Y_val, Y_test = train_test_split(X_val_and_test, Y_val_and_test, test_size=0.5)"
   ]
  },
  {
   "cell_type": "code",
   "execution_count": 15,
   "metadata": {},
   "outputs": [
    {
     "name": "stdout",
     "output_type": "stream",
     "text": [
      "(1685, 98) (361, 98) (362, 98) (1685,) (361,) (362,)\n"
     ]
    }
   ],
   "source": [
    "print(X_train.shape, X_val.shape, X_test.shape, Y_train.shape, Y_val.shape, Y_test.shape)"
   ]
  },
  {
   "cell_type": "markdown",
   "metadata": {},
   "source": [
    "# Building the neural network"
   ]
  },
  {
   "cell_type": "code",
   "execution_count": 16,
   "metadata": {},
   "outputs": [
    {
     "data": {
      "text/plain": [
       "array([[120.        ,  64.        ,   0.        , ...,   0.        ,\n",
       "          0.        ,   0.        ],\n",
       "       [  0.        ,   0.        ,   0.        , ...,  64.49806199,\n",
       "         75.47184906,  75.47184906],\n",
       "       [  0.        ,   0.        ,   0.        , ...,  89.4427191 ,\n",
       "         89.4427191 ,  89.4427191 ],\n",
       "       ...,\n",
       "       [152.        ,  48.        ,  40.        , ...,   0.        ,\n",
       "          0.        ,   0.        ],\n",
       "       [152.        ,  48.        ,  40.        , ...,   0.        ,\n",
       "          0.        ,   0.        ],\n",
       "       [152.        ,  48.        ,  40.        , ...,   0.        ,\n",
       "          0.        ,   0.        ]])"
      ]
     },
     "execution_count": 16,
     "metadata": {},
     "output_type": "execute_result"
    }
   ],
   "source": [
    "X"
   ]
  },
  {
   "cell_type": "code",
   "execution_count": 17,
   "metadata": {},
   "outputs": [],
   "source": [
    "model_3 = Sequential([  \n",
    "    Dense(32, activation='relu', \n",
    "    kernel_regularizer=regularizers.l2(0.01),\n",
    "    input_shape=(98,)),\n",
    "    Dropout(0.3),\n",
    "    Dense(16, activation='tanh',\n",
    "    kernel_regularizer=regularizers.l2(0.01)), \n",
    "    Dropout(0.3),\n",
    "    Dense(8,\n",
    "    activation='tanh',\n",
    "    kernel_regularizer=regularizers.l2(0.01)),    \n",
    "    Dropout(0.3),    \n",
    "    Dense(1, activation='sigmoid', \n",
    "    kernel_regularizer=regularizers.l2(0.01)),])"
   ]
  },
  {
   "cell_type": "code",
   "execution_count": 26,
   "metadata": {},
   "outputs": [
    {
     "name": "stdout",
     "output_type": "stream",
     "text": [
      "Model: \"sequential_1\"\n",
      "_________________________________________________________________\n",
      "Layer (type)                 Output Shape              Param #   \n",
      "=================================================================\n",
      "dense_1 (Dense)              (None, 32)                3168      \n",
      "_________________________________________________________________\n",
      "dropout_1 (Dropout)          (None, 32)                0         \n",
      "_________________________________________________________________\n",
      "dense_2 (Dense)              (None, 16)                528       \n",
      "_________________________________________________________________\n",
      "dropout_2 (Dropout)          (None, 16)                0         \n",
      "_________________________________________________________________\n",
      "dense_3 (Dense)              (None, 8)                 136       \n",
      "_________________________________________________________________\n",
      "dropout_3 (Dropout)          (None, 8)                 0         \n",
      "_________________________________________________________________\n",
      "dense_4 (Dense)              (None, 1)                 9         \n",
      "=================================================================\n",
      "Total params: 3,841\n",
      "Trainable params: 3,841\n",
      "Non-trainable params: 0\n",
      "_________________________________________________________________\n"
     ]
    }
   ],
   "source": [
    "model_3.summary()"
   ]
  },
  {
   "cell_type": "code",
   "execution_count": 19,
   "metadata": {},
   "outputs": [],
   "source": [
    "model_3.compile(optimizer='adam',      \n",
    "                loss='binary_crossentropy',    \n",
    "                metrics=['accuracy'])"
   ]
  },
  {
   "cell_type": "code",
   "execution_count": 20,
   "metadata": {},
   "outputs": [
    {
     "name": "stdout",
     "output_type": "stream",
     "text": [
      "Train on 1685 samples, validate on 361 samples\n",
      "Epoch 1/15\n",
      "1685/1685 [==============================] - 1s 715us/step - loss: 1.3487 - accuracy: 0.6439 - val_loss: 1.1978 - val_accuracy: 0.6704\n",
      "Epoch 2/15\n",
      "1685/1685 [==============================] - 0s 202us/step - loss: 1.1321 - accuracy: 0.6831 - val_loss: 1.0335 - val_accuracy: 0.7368\n",
      "Epoch 3/15\n",
      "1685/1685 [==============================] - 0s 146us/step - loss: 0.9845 - accuracy: 0.7187 - val_loss: 0.9250 - val_accuracy: 0.7230\n",
      "Epoch 4/15\n",
      "1685/1685 [==============================] - 0s 91us/step - loss: 0.8909 - accuracy: 0.7329 - val_loss: 0.8395 - val_accuracy: 0.7396\n",
      "Epoch 5/15\n",
      "1685/1685 [==============================] - 0s 110us/step - loss: 0.8129 - accuracy: 0.7371 - val_loss: 0.7826 - val_accuracy: 0.7313\n",
      "Epoch 6/15\n",
      "1685/1685 [==============================] - 0s 116us/step - loss: 0.7488 - accuracy: 0.7525 - val_loss: 0.7389 - val_accuracy: 0.7452\n",
      "Epoch 7/15\n",
      "1685/1685 [==============================] - 0s 113us/step - loss: 0.7141 - accuracy: 0.7573 - val_loss: 0.7032 - val_accuracy: 0.7424\n",
      "Epoch 8/15\n",
      "1685/1685 [==============================] - 0s 113us/step - loss: 0.6902 - accuracy: 0.7596 - val_loss: 0.6751 - val_accuracy: 0.7562\n",
      "Epoch 9/15\n",
      "1685/1685 [==============================] - 0s 121us/step - loss: 0.6634 - accuracy: 0.7620 - val_loss: 0.6587 - val_accuracy: 0.7368\n",
      "Epoch 10/15\n",
      "1685/1685 [==============================] - 0s 115us/step - loss: 0.6431 - accuracy: 0.7721 - val_loss: 0.6380 - val_accuracy: 0.7535\n",
      "Epoch 11/15\n",
      "1685/1685 [==============================] - 0s 112us/step - loss: 0.6233 - accuracy: 0.7780 - val_loss: 0.6455 - val_accuracy: 0.7258\n",
      "Epoch 12/15\n",
      "1685/1685 [==============================] - 0s 113us/step - loss: 0.6119 - accuracy: 0.7869 - val_loss: 0.6178 - val_accuracy: 0.7562\n",
      "Epoch 13/15\n",
      "1685/1685 [==============================] - 0s 120us/step - loss: 0.5912 - accuracy: 0.7875 - val_loss: 0.6129 - val_accuracy: 0.7701\n",
      "Epoch 14/15\n",
      "1685/1685 [==============================] - 0s 112us/step - loss: 0.5828 - accuracy: 0.7994 - val_loss: 0.6011 - val_accuracy: 0.7729\n",
      "Epoch 15/15\n",
      "1685/1685 [==============================] - 0s 122us/step - loss: 0.5709 - accuracy: 0.8036 - val_loss: 0.6080 - val_accuracy: 0.7618\n"
     ]
    }
   ],
   "source": [
    "hist_3 = model_3.fit(X_train, Y_train,batch_size=32, epochs=15, validation_data=(X_val, Y_val))"
   ]
  },
  {
   "cell_type": "code",
   "execution_count": 21,
   "metadata": {},
   "outputs": [
    {
     "data": {
      "image/png": "[encoded data removed]",
      "text/plain": [
       "<Figure size 432x288 with 1 Axes>"
      ]
     },
     "metadata": {
      "needs_background": "light"
     },
     "output_type": "display_data"
    }
   ],
   "source": [
    "plt.plot(hist_3.history['loss'])\n",
    "plt.plot(hist_3.history['val_loss'])\n",
    "plt.title('Model loss')\n",
    "plt.ylabel('Loss')\n",
    "plt.xlabel('Epoch')\n",
    "plt.legend(['Train', 'Val'], loc='upper right')\n",
    "plt.show()"
   ]
  },
  {
   "cell_type": "code",
   "execution_count": 22,
   "metadata": {},
   "outputs": [
    {
     "data": {
      "image/png": "[encoded data removed]",
      "text/plain": [
       "<Figure size 432x288 with 1 Axes>"
      ]
     },
     "metadata": {
      "needs_background": "light"
     },
     "output_type": "display_data"
    }
   ],
   "source": [
    "plt.plot(hist_3.history['accuracy'])\n",
    "plt.plot(hist_3.history['val_accuracy'])\n",
    "plt.title('Model accuracy')\n",
    "plt.ylabel('Accuracy')\n",
    "plt.xlabel('Epoch')\n",
    "plt.legend(['Train', 'Val'], loc='lower right')\n",
    "plt.show()"
   ]
  },
  {
   "cell_type": "markdown",
   "metadata": {},
   "source": [
    "Save the model"
   ]
  },
  {
   "cell_type": "code",
   "execution_count": 23,
   "metadata": {},
   "outputs": [],
   "source": [
    "model_3.save('models/model_NN.h5')"
   ]
  },
  {
   "cell_type": "code",
   "execution_count": 24,
   "metadata": {},
   "outputs": [
    {
     "name": "stdout",
     "output_type": "stream",
     "text": [
      "1685/1685 [==============================] - 0s 62us/step\n"
     ]
    }
   ],
   "source": [
    "score = model_3.evaluate(X_train, Y_train, verbose=1)"
   ]
  },
  {
   "cell_type": "code",
   "execution_count": 25,
   "metadata": {},
   "outputs": [
    {
     "data": {
      "text/plain": [
       "[0.5435183005446143, 0.8178041577339172]"
      ]
     },
     "execution_count": 25,
     "metadata": {},
     "output_type": "execute_result"
    }
   ],
   "source": [
    "score"
   ]
  },
  {
   "cell_type": "code",
   "execution_count": null,
   "metadata": {},
   "outputs": [],
   "source": []
  },
  {
   "cell_type": "code",
   "execution_count": null,
   "metadata": {},
   "outputs": [],
   "source": []
  }
 ],
 "metadata": {
  "kernelspec": {
   "display_name": "Python 3",
   "language": "python",
   "name": "python3"
  },
  "language_info": {
   "codemirror_mode": {
    "name": "ipython",
    "version": 3
   },
   "file_extension": ".py",
   "mimetype": "text/x-python",
   "name": "python",
   "nbconvert_exporter": "python",
   "pygments_lexer": "ipython3",
   "version": "3.7.7"
  }
 },
 "nbformat": 4,
 "nbformat_minor": 4
}
