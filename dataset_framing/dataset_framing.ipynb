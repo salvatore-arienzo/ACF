{
 "cells": [
  {
   "cell_type": "markdown",
   "metadata": {},
   "source": [
    "# Dataset Framing"
   ]
  },
  {
   "cell_type": "markdown",
   "metadata": {},
   "source": [
    "Download the Violence/Non violence dataset on [Kaggle](https://www.kaggle.com/mohamedmustafa/real-life-violence-situations-dataset/data)."
   ]
  },
  {
   "cell_type": "code",
   "execution_count": 1,
   "metadata": {},
   "outputs": [],
   "source": [
    "import cv2\n",
    "import os\n",
    "from ipywidgets import IntProgress\n",
    "from IPython.display import display"
   ]
  },
  {
   "cell_type": "markdown",
   "metadata": {},
   "source": [
    "Set your input/output paths here"
   ]
  },
  {
   "cell_type": "code",
   "execution_count": 3,
   "metadata": {},
   "outputs": [],
   "source": [
    "inputDataViolence = \"dataset/Violence/\"\n",
    "inputDataNonViolence = \"dataset/NonViolence/\"\n",
    "outputDataViolence = \"framed_dataset/Violence/\"\n",
    "outputDataNonViolence = \"framed_dataset/NonViolence/\""
   ]
  },
  {
   "cell_type": "markdown",
   "metadata": {},
   "source": [
    "Set your image width and height and the total number of videos"
   ]
  },
  {
   "cell_type": "code",
   "execution_count": 4,
   "metadata": {},
   "outputs": [],
   "source": [
    "imgX = 224   \n",
    "imgY = 224\n",
    "size = (imgX,imgY)\n",
    "totalVideos = 1001 #total numeber of Videos\n",
    "nFrame = 0 #currentFrame Expected: 159000 for the first part,280000 for the second part "
   ]
  },
  {
   "cell_type": "code",
   "execution_count": 5,
   "metadata": {},
   "outputs": [
    {
     "data": {
      "application/vnd.jupyter.widget-view+json": {
       "model_id": "91615bbe0a57437ebb7777c380d02cbb",
       "version_major": 2,
       "version_minor": 0
      },
      "text/plain": [
       "IntProgress(value=0, max=1001)"
      ]
     },
     "metadata": {},
     "output_type": "display_data"
    }
   ],
   "source": [
    "nVideo = 1 #currentVideo\n",
    "f = IntProgress(min=0, max=totalVideos) # instantiate the ProgressBar\n",
    "display(f) # display the progressBar\n",
    "for nVideo in range(totalVideos):\n",
    "    cap = cv2.VideoCapture(inputDataViolence +\"V_\"+str(nVideo)+\".mp4\")\n",
    "    while(cap.isOpened()):\n",
    "        ret,frame = cap.read()\n",
    "        if ret == False:\n",
    "            break\n",
    "        resize = cv2.resize(frame,size)\n",
    "        cv2.imwrite(outputDataViolence +\"img\"+str(nFrame)+\".jpg\",resize)\n",
    "        nFrame+=1\n",
    "    cap.release()\n",
    "    cv2.destroyAllWindows()\n",
    "    nVideo+=1\n",
    "    f.value+=1"
   ]
  },
  {
   "cell_type": "code",
   "execution_count": 6,
   "metadata": {},
   "outputs": [
    {
     "data": {
      "application/vnd.jupyter.widget-view+json": {
       "model_id": "b3b2978f8d6744fcabec4bcc2aea101d",
       "version_major": 2,
       "version_minor": 0
      },
      "text/plain": [
       "IntProgress(value=0, max=1001)"
      ]
     },
     "metadata": {},
     "output_type": "display_data"
    }
   ],
   "source": [
    "nVideo = 1 #currentVideo\n",
    "f = IntProgress(min=0, max=totalVideos) # instantiate the ProgressBar\n",
    "display(f) # display the progressBar\n",
    "for nVideo in range(totalVideos): \n",
    "    cap = cv2.VideoCapture(inputDataNonViolence +\"NV_\"+str(nVideo)+\".mp4\")\n",
    "    i = 0\n",
    "    while(cap.isOpened()):\n",
    "        ret,frame = cap.read()\n",
    "        if ret == False:\n",
    "            break\n",
    "        resize = cv2.resize(frame,size)\n",
    "        cv2.imwrite(outputDataNonViolence+\"img\"+str(nFrame)+\".jpg\",resize)\n",
    "        nFrame+=1\n",
    "    cap.release()\n",
    "    cv2.destroyAllWindows()\n",
    "    nVideo+=1\n",
    "    f.value+=1"
   ]
  },
  {
   "cell_type": "code",
   "execution_count": null,
   "metadata": {},
   "outputs": [],
   "source": []
  }
 ],
 "metadata": {
  "kernelspec": {
   "display_name": "Python 3",
   "language": "python",
   "name": "python3"
  },
  "language_info": {
   "codemirror_mode": {
    "name": "ipython",
    "version": 3
   },
   "file_extension": ".py",
   "mimetype": "text/x-python",
   "name": "python",
   "nbconvert_exporter": "python",
   "pygments_lexer": "ipython3",
   "version": "3.7.7"
  }
 },
 "nbformat": 4,
 "nbformat_minor": 4
}
