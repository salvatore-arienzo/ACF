{
 "cells": [
  {
   "cell_type": "markdown",
   "metadata": {},
   "source": [
    "# Dataset Framing"
   ]
  },
  {
   "cell_type": "markdown",
   "metadata": {},
   "source": [
    "Download the dataset [Here](https://gofile.io/d/bwIIOh)\n",
    "\n",
    "\n",
    "Download the Full Violence/Non violence dataset on [Kaggle](https://www.kaggle.com/mohamedmustafa/real-life-violence-situations-dataset/data)."
   ]
  },
  {
   "cell_type": "code",
   "execution_count": 1,
   "metadata": {},
   "outputs": [],
   "source": [
    "import cv2\n",
    "import os\n",
    "from ipywidgets import IntProgress\n",
    "from IPython.display import display"
   ]
  },
  {
   "cell_type": "markdown",
   "metadata": {},
   "source": [
    "Set your input/output paths here"
   ]
  },
  {
   "cell_type": "code",
   "execution_count": 3,
   "metadata": {},
   "outputs": [],
   "source": [
    "inputDataViolence = \"dataset_small/Violence/\"\n",
    "inputDataNonViolence = \"dataset_small/NonViolence/\"\n",
    "outputDataViolence = \"framed_dataset_small/Violence/\"\n",
    "outputDataNonViolence = \"framed_dataset_small/NonViolence/\""
   ]
  },
  {
   "cell_type": "markdown",
   "metadata": {},
   "source": [
    "Set your image width and height and the total number of videos"
   ]
  },
  {
   "cell_type": "code",
   "execution_count": 9,
   "metadata": {},
   "outputs": [],
   "source": [
    "imgX = 224   \n",
    "imgY = 224\n",
    "size = (imgX,imgY)\n",
    "totalVideos = 49 #total numeber of Videos\n",
    "nFrame = 6934 #Start from 0 for the first foler (violence), and then set to 6935 for the second folder (non violence)"
   ]
  },
  {
   "cell_type": "code",
   "execution_count": 5,
   "metadata": {},
   "outputs": [
    {
     "data": {
      "application/vnd.jupyter.widget-view+json": {
       "model_id": "0bdb00baf33c45e19d2098b575a2c8a6",
       "version_major": 2,
       "version_minor": 0
      },
      "text/plain": [
       "IntProgress(value=0, max=1001)"
      ]
     },
     "metadata": {},
     "output_type": "display_data"
    }
   ],
   "source": [
    "nVideo = 0 #currentVideo\n",
    "f = IntProgress(min=0, max=totalVideos) # instantiate the ProgressBar\n",
    "display(f) # display the progressBar\n",
    "for nVideo in range(totalVideos+1):\n",
    "    cap = cv2.VideoCapture(inputDataViolence +\"V_\"+str(nVideo)+\".mp4\")\n",
    "    while(cap.isOpened()):\n",
    "        ret,frame = cap.read()\n",
    "        if ret == False:\n",
    "            break\n",
    "        resize = cv2.resize(frame,size)\n",
    "        cv2.imwrite(outputDataViolence +\"img\"+str(nFrame)+\".jpg\",resize)\n",
    "        nFrame+=1\n",
    "    cap.release()\n",
    "    cv2.destroyAllWindows()\n",
    "    nVideo+=1\n",
    "    f.value+=1"
   ]
  },
  {
   "cell_type": "code",
   "execution_count": 11,
   "metadata": {},
   "outputs": [
    {
     "data": {
      "application/vnd.jupyter.widget-view+json": {
       "model_id": "b175b5af2e8c4aab9f5e2b41a3dda0d7",
       "version_major": 2,
       "version_minor": 0
      },
      "text/plain": [
       "IntProgress(value=0, max=49)"
      ]
     },
     "metadata": {},
     "output_type": "display_data"
    }
   ],
   "source": [
    "nVideo = 0 #currentVideo\n",
    "f = IntProgress(min=0, max=totalVideos) # instantiate the ProgressBar\n",
    "display(f) # display the progressBar\n",
    "for nVideo in range(totalVideos+1): \n",
    "    cap = cv2.VideoCapture(inputDataNonViolence +\"NV_\"+str(nVideo)+\".mp4\")\n",
    "    while(cap.isOpened()):\n",
    "        ret,frame = cap.read()\n",
    "        if ret == False:\n",
    "            break\n",
    "        resize = cv2.resize(frame,size)\n",
    "        cv2.imwrite(outputDataNonViolence+\"img\"+str(nFrame)+\".jpg\",resize)\n",
    "        nFrame+=1\n",
    "    cap.release()\n",
    "    cv2.destroyAllWindows()\n",
    "    nVideo+=1\n",
    "    f.value+=1"
   ]
  },
  {
   "cell_type": "code",
   "execution_count": null,
   "metadata": {},
   "outputs": [],
   "source": []
  }
 ],
 "metadata": {
  "kernelspec": {
   "display_name": "Python 3",
   "language": "python",
   "name": "python3"
  },
  "language_info": {
   "codemirror_mode": {
    "name": "ipython",
    "version": 3
   },
   "file_extension": ".py",
   "mimetype": "text/x-python",
   "name": "python",
   "nbconvert_exporter": "python",
   "pygments_lexer": "ipython3",
   "version": "3.7.7"
  }
 },
 "nbformat": 4,
 "nbformat_minor": 4
}
